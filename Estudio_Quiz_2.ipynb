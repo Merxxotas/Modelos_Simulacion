{
  "nbformat": 4,
  "nbformat_minor": 0,
  "metadata": {
    "colab": {
      "provenance": [],
      "authorship_tag": "ABX9TyPZhHkeSO4UfQ7piAkWcf32",
      "include_colab_link": true
    },
    "kernelspec": {
      "name": "python3",
      "display_name": "Python 3"
    },
    "language_info": {
      "name": "python"
    }
  },
  "cells": [
    {
      "cell_type": "markdown",
      "metadata": {
        "id": "view-in-github",
        "colab_type": "text"
      },
      "source": [
        "<a href=\"https://colab.research.google.com/github/Merxxotas/Modelos_Simulacion/blob/main/Estudio_Quiz_2.ipynb\" target=\"_parent\"><img src=\"https://colab.research.google.com/assets/colab-badge.svg\" alt=\"Open In Colab\"/></a>"
      ]
    },
    {
      "cell_type": "markdown",
      "source": [
        "# Punto N°1\n",
        "## Detetermine el ciclo o periodo de vida de los siguientes generadores congruenciales"
      ],
      "metadata": {
        "id": "UtZlqgWOX0AZ"
      }
    },
    {
      "cell_type": "code",
      "execution_count": null,
      "metadata": {
        "id": "miWkcHbcJpDJ"
      },
      "outputs": [],
      "source": [
        "def periodo_de_vida(a, m, x0, c=None, bandera=None):\n",
        "    residuos = []\n",
        "    aleatorios = []\n",
        "\n",
        "    if c is not None and bandera is None:\n",
        "        # Implementación para periodoDeVida(int a, int c, int m, int x0)\n",
        "        xi = ((a * x0) + c) % m\n",
        "    elif bandera is not None:\n",
        "        # Implementación para periodoDeVida(int a, int m, int x0, boolean bandera)\n",
        "        xi = (a + x0) % m\n",
        "    else:\n",
        "        # Implementación para periodoDeVida(int a, int m, int x0)\n",
        "        xi = (a * x0) % m\n",
        "\n",
        "    aleatorio = xi / (m - 1)\n",
        "    residuos.append(xi)\n",
        "    aleatorios.append(aleatorio)\n",
        "\n",
        "    if c is not None and bandera is None:\n",
        "        xi = ((a * xi) + c) % m\n",
        "    elif bandera is not None:\n",
        "        xi = (a + xi) % m\n",
        "    else:\n",
        "        xi = (a * xi) % m\n",
        "\n",
        "    aleatorio = xi / (m - 1)\n",
        "\n",
        "    while xi not in residuos:\n",
        "        residuos.append(xi)\n",
        "        aleatorios.append(aleatorio)\n",
        "\n",
        "        if c is not None and bandera is None:\n",
        "            xi = ((a * xi) + c) % m\n",
        "        elif bandera is not None:\n",
        "            xi = (a + xi) % m\n",
        "        else:\n",
        "            xi = (a * xi) % m\n",
        "\n",
        "        aleatorio = xi / (m - 1)\n",
        "\n",
        "    print(f\"Ciclo de vida: {len(residuos)} iteraciones\")\n",
        "    for i, aleatorio in enumerate(aleatorios):\n",
        "        if aleatorio >= 1:\n",
        "            print(f\" r{i}: {format(aleatorio, '.4f')}\\t x{i}: {xi}\")\n",
        "        else:\n",
        "            print(f\" r{i + 1}: {format(aleatorio, '.4f')}\\t x{i + 1}: {residuos[i]}\")\n",
        "\n",
        "\n",
        "# Llamadas a las funciones\n",
        "print(\"--------------------PUNTO A--------------------\")\n",
        "periodo_de_vida(21, 15, 31, 21)\n",
        "\n",
        "print(\"--------------------PUNTO B--------------------\")\n",
        "periodo_de_vida(13, 9, 128, 7)\n",
        "\n",
        "print(\"--------------------PUNTO C--------------------\")\n",
        "periodo_de_vida(17, 31, 23)\n",
        "\n",
        "print(\"--------------------PUNTO D--------------------\")\n",
        "periodo_de_vida(121, 256, 17, bandera=False)\n"
      ]
    },
    {
      "cell_type": "markdown",
      "source": [
        "# Punto N°1\n",
        "## Detetermine el ciclo o periodo de vida de los siguientes generadores congruenciales"
      ],
      "metadata": {
        "id": "stSY6qjNYIm2"
      }
    },
    {
      "cell_type": "code",
      "source": [
        "def find_period(a, c, m, x0):\n",
        "    values = []\n",
        "    x = x0\n",
        "    while x not in values:\n",
        "        values.append(x)\n",
        "        x = (a * x + c) % m\n",
        "    return len(values), values\n",
        "\n",
        "# Configuraciones para cada caso\n",
        "generators = [\n",
        "    {\"a\": 21, \"c\": 15, \"m\": 31, \"x0\": 21},  # Generador (a)\n",
        "    {\"a\": 13, \"c\": 9, \"m\": 128, \"x0\": 7},   # Generador (b)\n",
        "    {\"a\": 17, \"c\": 0, \"m\": 31, \"x0\": 23},   # Generador (c)\n",
        "    {\"a\": 1, \"c\": 121, \"m\": 256, \"x0\": 17}  # Generador (d)\n",
        "]\n",
        "\n",
        "# Ejecutar el cálculo para cada generador\n",
        "for i, gen in enumerate(generators, start=1):\n",
        "    period, sequence = find_period(gen[\"a\"], gen[\"c\"], gen[\"m\"], gen[\"x0\"])\n",
        "    print(f\"Generador {chr(96+i)}: Periodo = {period}, Secuencia = {sequence}\")"
      ],
      "metadata": {
        "colab": {
          "base_uri": "https://localhost:8080/"
        },
        "id": "83HDv5thNKr2",
        "outputId": "f168cf78-b2df-4946-9d5e-751c428f5a0f"
      },
      "execution_count": null,
      "outputs": [
        {
          "output_type": "stream",
          "name": "stdout",
          "text": [
            "Generador a: Periodo = 30, Secuencia = [21, 22, 12, 19, 11, 29, 4, 6, 17, 0, 15, 20, 1, 5, 27, 24, 23, 2, 26, 3, 16, 10, 8, 28, 14, 30, 25, 13, 9, 18]\n",
            "Generador b: Periodo = 128, Secuencia = [7, 100, 29, 2, 35, 80, 25, 78, 127, 124, 85, 90, 27, 104, 81, 38, 119, 20, 13, 50, 19, 0, 9, 126, 111, 44, 69, 10, 11, 24, 65, 86, 103, 68, 125, 98, 3, 48, 121, 46, 95, 92, 53, 58, 123, 72, 49, 6, 87, 116, 109, 18, 115, 96, 105, 94, 79, 12, 37, 106, 107, 120, 33, 54, 71, 36, 93, 66, 99, 16, 89, 14, 63, 60, 21, 26, 91, 40, 17, 102, 55, 84, 77, 114, 83, 64, 73, 62, 47, 108, 5, 74, 75, 88, 1, 22, 39, 4, 61, 34, 67, 112, 57, 110, 31, 28, 117, 122, 59, 8, 113, 70, 23, 52, 45, 82, 51, 32, 41, 30, 15, 76, 101, 42, 43, 56, 97, 118]\n",
            "Generador c: Periodo = 30, Secuencia = [23, 19, 13, 4, 6, 9, 29, 28, 11, 1, 17, 10, 15, 7, 26, 8, 12, 18, 27, 25, 22, 2, 3, 20, 30, 14, 21, 16, 24, 5]\n",
            "Generador d: Periodo = 256, Secuencia = [17, 138, 3, 124, 245, 110, 231, 96, 217, 82, 203, 68, 189, 54, 175, 40, 161, 26, 147, 12, 133, 254, 119, 240, 105, 226, 91, 212, 77, 198, 63, 184, 49, 170, 35, 156, 21, 142, 7, 128, 249, 114, 235, 100, 221, 86, 207, 72, 193, 58, 179, 44, 165, 30, 151, 16, 137, 2, 123, 244, 109, 230, 95, 216, 81, 202, 67, 188, 53, 174, 39, 160, 25, 146, 11, 132, 253, 118, 239, 104, 225, 90, 211, 76, 197, 62, 183, 48, 169, 34, 155, 20, 141, 6, 127, 248, 113, 234, 99, 220, 85, 206, 71, 192, 57, 178, 43, 164, 29, 150, 15, 136, 1, 122, 243, 108, 229, 94, 215, 80, 201, 66, 187, 52, 173, 38, 159, 24, 145, 10, 131, 252, 117, 238, 103, 224, 89, 210, 75, 196, 61, 182, 47, 168, 33, 154, 19, 140, 5, 126, 247, 112, 233, 98, 219, 84, 205, 70, 191, 56, 177, 42, 163, 28, 149, 14, 135, 0, 121, 242, 107, 228, 93, 214, 79, 200, 65, 186, 51, 172, 37, 158, 23, 144, 9, 130, 251, 116, 237, 102, 223, 88, 209, 74, 195, 60, 181, 46, 167, 32, 153, 18, 139, 4, 125, 246, 111, 232, 97, 218, 83, 204, 69, 190, 55, 176, 41, 162, 27, 148, 13, 134, 255, 120, 241, 106, 227, 92, 213, 78, 199, 64, 185, 50, 171, 36, 157, 22, 143, 8, 129, 250, 115, 236, 101, 222, 87, 208, 73, 194, 59, 180, 45, 166, 31, 152]\n"
          ]
        }
      ]
    },
    {
      "cell_type": "code",
      "source": [
        "def calcular_periodo(a, c, m, x_inicial):\n",
        "    secuencia = []\n",
        "    x = x_inicial\n",
        "    while x not in secuencia:\n",
        "        secuencia.append(x)\n",
        "        x = (a * x + c) % m\n",
        "    return len(secuencia), secuencia\n",
        "\n",
        "# Configuraciones de los generadores\n",
        "configuraciones = [\n",
        "    (21, 15, 31, 21),   # Generador (a)\n",
        "    (13, 9, 128, 7),    # Generador (b)\n",
        "    (17, 0, 31, 23),    # Generador (c)\n",
        "    (1, 121, 256, 17)   # Generador (d)\n",
        "]\n",
        "\n",
        "# Procesar cada generador\n",
        "for indice, (a, c, m, x_inicial) in enumerate(configuraciones, start=1):\n",
        "    periodo, secuencia = calcular_periodo(a, c, m, x_inicial)\n",
        "    print(f\"Generador {chr(96 + indice)}: Periodo = {periodo}, Secuencia = {secuencia}\")\n"
      ],
      "metadata": {
        "colab": {
          "base_uri": "https://localhost:8080/"
        },
        "id": "VjMXCgnBpjmF",
        "outputId": "587c6826-7e34-4b00-b06e-5fe9355de405"
      },
      "execution_count": null,
      "outputs": [
        {
          "output_type": "stream",
          "name": "stdout",
          "text": [
            "Generador a: Periodo = 30, Secuencia = [21, 22, 12, 19, 11, 29, 4, 6, 17, 0, 15, 20, 1, 5, 27, 24, 23, 2, 26, 3, 16, 10, 8, 28, 14, 30, 25, 13, 9, 18]\n",
            "Generador b: Periodo = 128, Secuencia = [7, 100, 29, 2, 35, 80, 25, 78, 127, 124, 85, 90, 27, 104, 81, 38, 119, 20, 13, 50, 19, 0, 9, 126, 111, 44, 69, 10, 11, 24, 65, 86, 103, 68, 125, 98, 3, 48, 121, 46, 95, 92, 53, 58, 123, 72, 49, 6, 87, 116, 109, 18, 115, 96, 105, 94, 79, 12, 37, 106, 107, 120, 33, 54, 71, 36, 93, 66, 99, 16, 89, 14, 63, 60, 21, 26, 91, 40, 17, 102, 55, 84, 77, 114, 83, 64, 73, 62, 47, 108, 5, 74, 75, 88, 1, 22, 39, 4, 61, 34, 67, 112, 57, 110, 31, 28, 117, 122, 59, 8, 113, 70, 23, 52, 45, 82, 51, 32, 41, 30, 15, 76, 101, 42, 43, 56, 97, 118]\n",
            "Generador c: Periodo = 30, Secuencia = [23, 19, 13, 4, 6, 9, 29, 28, 11, 1, 17, 10, 15, 7, 26, 8, 12, 18, 27, 25, 22, 2, 3, 20, 30, 14, 21, 16, 24, 5]\n",
            "Generador d: Periodo = 256, Secuencia = [17, 138, 3, 124, 245, 110, 231, 96, 217, 82, 203, 68, 189, 54, 175, 40, 161, 26, 147, 12, 133, 254, 119, 240, 105, 226, 91, 212, 77, 198, 63, 184, 49, 170, 35, 156, 21, 142, 7, 128, 249, 114, 235, 100, 221, 86, 207, 72, 193, 58, 179, 44, 165, 30, 151, 16, 137, 2, 123, 244, 109, 230, 95, 216, 81, 202, 67, 188, 53, 174, 39, 160, 25, 146, 11, 132, 253, 118, 239, 104, 225, 90, 211, 76, 197, 62, 183, 48, 169, 34, 155, 20, 141, 6, 127, 248, 113, 234, 99, 220, 85, 206, 71, 192, 57, 178, 43, 164, 29, 150, 15, 136, 1, 122, 243, 108, 229, 94, 215, 80, 201, 66, 187, 52, 173, 38, 159, 24, 145, 10, 131, 252, 117, 238, 103, 224, 89, 210, 75, 196, 61, 182, 47, 168, 33, 154, 19, 140, 5, 126, 247, 112, 233, 98, 219, 84, 205, 70, 191, 56, 177, 42, 163, 28, 149, 14, 135, 0, 121, 242, 107, 228, 93, 214, 79, 200, 65, 186, 51, 172, 37, 158, 23, 144, 9, 130, 251, 116, 237, 102, 223, 88, 209, 74, 195, 60, 181, 46, 167, 32, 153, 18, 139, 4, 125, 246, 111, 232, 97, 218, 83, 204, 69, 190, 55, 176, 41, 162, 27, 148, 13, 134, 255, 120, 241, 106, 227, 92, 213, 78, 199, 64, 185, 50, 171, 36, 157, 22, 143, 8, 129, 250, 115, 236, 101, 222, 87, 208, 73, 194, 59, 180, 45, 166, 31, 152]\n"
          ]
        }
      ]
    },
    {
      "cell_type": "markdown",
      "source": [
        "# Punto N°2\n",
        "## Detetermine el ciclo o periodo de vida de los siguientes generadores congruenciales"
      ],
      "metadata": {
        "id": "zZKcgj3qYeeW"
      }
    },
    {
      "cell_type": "code",
      "source": [
        "def find_period(a, c, m, x0):\n",
        "    values = []\n",
        "    x = x0\n",
        "    while x not in values:\n",
        "        values.append(x)\n",
        "        x = (a * x + c) % m\n",
        "    return len(values), values\n",
        "\n",
        "# Configuraciones para cada caso en el ejercicio 2\n",
        "generators = [\n",
        "    {\"a\": 137, \"c\": 47, \"m\": 17, \"x0\": 1},  # Generador (a)\n",
        "    {\"a\": 191, \"c\": 17, \"m\": 23, \"x0\": 1},  # Generador (b)\n",
        "    {\"a\": 237, \"c\": 71, \"m\": 37, \"x0\": 1},  # Generador (c)\n",
        "    {\"a\": 117, \"c\": 31, \"m\": 19, \"x0\": 1},  # Generador (d)\n",
        "    {\"a\": 157, \"c\": 47, \"m\": 37, \"x0\": 1},  # Generador (e)\n",
        "    {\"a\": 321, \"c\": 11, \"m\": 27, \"x0\": 1}   # Generador (f)\n",
        "]\n",
        "\n",
        "# Ejecutar el cálculo para cada generador\n",
        "for i, gen in enumerate(generators, start=1):\n",
        "    period, sequence = find_period(gen[\"a\"], gen[\"c\"], gen[\"m\"], gen[\"x0\"])\n",
        "    print(f\"Generador {chr(96+i)}: Periodo = {period}, Secuencia = {sequence}\")"
      ],
      "metadata": {
        "colab": {
          "base_uri": "https://localhost:8080/"
        },
        "id": "awNVcvkmOCHj",
        "outputId": "4f2f6a37-34c8-4a4a-d0bc-e60bd7630a59"
      },
      "execution_count": null,
      "outputs": [
        {
          "output_type": "stream",
          "name": "stdout",
          "text": [
            "Generador a: Periodo = 17, Secuencia = [1, 14, 10, 6, 2, 15, 11, 7, 3, 16, 12, 8, 4, 0, 13, 9, 5]\n",
            "Generador b: Periodo = 1, Secuencia = [1]\n",
            "Generador c: Periodo = 36, Secuencia = [1, 12, 29, 25, 2, 27, 32, 33, 11, 14, 22, 31, 18, 8, 6, 13, 7, 28, 10, 36, 19, 23, 9, 21, 16, 15, 0, 34, 26, 17, 30, 3, 5, 35, 4, 20]\n",
            "Generador d: Periodo = 18, Secuencia = [1, 15, 0, 12, 10, 4, 5, 8, 17, 6, 11, 7, 14, 16, 3, 2, 18, 9]\n",
            "Generador e: Periodo = 9, Secuencia = [1, 19, 33, 11, 35, 29, 12, 7, 36]\n",
            "Generador f: Periodo = 4, Secuencia = [1, 8, 14, 23]\n"
          ]
        }
      ]
    },
    {
      "cell_type": "markdown",
      "source": [
        "# Punto N°2\n",
        "## Detetermine el ciclo o periodo de vida de los siguientes generadores congruenciales"
      ],
      "metadata": {
        "id": "nb9bKsMvYhmy"
      }
    },
    {
      "cell_type": "code",
      "source": [
        "def find_period(a, c, m, x0):\n",
        "    values = []\n",
        "    x = x0  # Comienza directamente con x0 como primer valor\n",
        "    while x not in values:\n",
        "        values.append(x)\n",
        "        x = (a * x + c) % m  # Calcula el siguiente valor\n",
        "    return len(values), values\n",
        "\n",
        "# Configuraciones para cada caso en el ejercicio 2\n",
        "generators = [\n",
        "    {\"a\": 137, \"c\": 47, \"m\": 17, \"x0\": 301},  # Generador (a)\n",
        "    {\"a\": 191, \"c\": 17, \"m\": 23, \"x0\": 23},  # Generador (b)\n",
        "    {\"a\": 237, \"c\": 71, \"m\": 37, \"x0\": 195},  # Generador (c)\n",
        "    {\"a\": 117, \"c\": 31, \"m\": 19, \"x0\": 57},  # Generador (d)\n",
        "    {\"a\": 157, \"c\": 47, \"m\": 37, \"x0\": 99},  # Generador (e)\n",
        "    {\"a\": 321, \"c\": 11, \"m\": 27, \"x0\": 177}   # Generador (f)\n",
        "]\n",
        "\n",
        "# Ejecutar el cálculo para cada generador\n",
        "for i, gen in enumerate(generators, start=1):\n",
        "    period, sequence = find_period(gen[\"a\"], gen[\"c\"], gen[\"m\"], gen[\"x0\"])\n",
        "    print(f\"Generador {chr(96+i)}: Periodo = {period}, Secuencia = {sequence}\")"
      ],
      "metadata": {
        "colab": {
          "base_uri": "https://localhost:8080/"
        },
        "id": "tIWhCAEyQRWF",
        "outputId": "6d92a2c1-1c55-4970-f1f6-584bda42796a"
      },
      "execution_count": null,
      "outputs": [
        {
          "output_type": "stream",
          "name": "stdout",
          "text": [
            "Generador a: Periodo = 18, Secuencia = [301, 8, 4, 0, 13, 9, 5, 1, 14, 10, 6, 2, 15, 11, 7, 3, 16, 12]\n",
            "Generador b: Periodo = 23, Secuencia = [23, 17, 21, 3, 15, 7, 20, 19, 12, 9, 11, 2, 8, 4, 22, 10, 18, 5, 6, 13, 16, 14, 0]\n",
            "Generador c: Periodo = 37, Secuencia = [195, 36, 19, 23, 9, 21, 16, 15, 0, 34, 26, 17, 30, 3, 5, 35, 4, 20, 1, 12, 29, 25, 2, 27, 32, 33, 11, 14, 22, 31, 18, 8, 6, 13, 7, 28, 10]\n",
            "Generador d: Periodo = 19, Secuencia = [57, 12, 10, 4, 5, 8, 17, 6, 11, 7, 14, 16, 3, 2, 18, 9, 1, 15, 0]\n",
            "Generador e: Periodo = 10, Secuencia = [99, 13, 16, 6, 27, 31, 30, 21, 14, 25]\n",
            "Generador f: Periodo = 4, Secuencia = [177, 20, 5, 23]\n"
          ]
        }
      ]
    },
    {
      "cell_type": "markdown",
      "source": [
        "# Punto N°2\n",
        "## Detetermine el ciclo o periodo de vida de los siguientes generadores congruenciales"
      ],
      "metadata": {
        "id": "wbynPgy1YaQQ"
      }
    },
    {
      "cell_type": "code",
      "source": [
        "def periodo_de_vida(a: int, c: int, m: int, x0: int, inciso: str):\n",
        "    residuos = []\n",
        "    pseudo_aleatorios = []\n",
        "    xi = x0  # Inicialización con x0\n",
        "\n",
        "    while xi not in residuos:\n",
        "        residuos.append(xi)\n",
        "        ri = xi / (m - 1)\n",
        "        pseudo_aleatorios.append(ri)\n",
        "        xi = ((a * xi) + c) % m\n",
        "\n",
        "    print(f\"Inciso -{inciso}- ciclo de vida: {len(residuos)} iteraciones\")\n",
        "\n",
        "def main():\n",
        "    periodo_de_vida(137, 47, 17, 301, \"A\")  # X0 = 301\n",
        "    periodo_de_vida(191, 17, 23, 23, \"B\")   # X0 = 23\n",
        "    periodo_de_vida(237, 71, 37, 195, \"C\")  # X0 = 195\n",
        "    periodo_de_vida(117, 31, 19, 57, \"D\")   # X0 = 57\n",
        "    periodo_de_vida(157, 47, 37, 99, \"E\")   # X0 = 99\n",
        "    periodo_de_vida(321, 11, 27, 177, \"F\")  # X0 = 177\n",
        "\n",
        "if __name__ == \"__main__\":\n",
        "    main()"
      ],
      "metadata": {
        "colab": {
          "base_uri": "https://localhost:8080/"
        },
        "id": "4HCA25ZMTTQ1",
        "outputId": "148503af-c6b8-4a3a-d954-ee60f626458d"
      },
      "execution_count": null,
      "outputs": [
        {
          "output_type": "stream",
          "name": "stdout",
          "text": [
            "Inciso -A- ciclo de vida: 18 iteraciones\n",
            "Inciso -B- ciclo de vida: 23 iteraciones\n",
            "Inciso -C- ciclo de vida: 37 iteraciones\n",
            "Inciso -D- ciclo de vida: 19 iteraciones\n",
            "Inciso -E- ciclo de vida: 10 iteraciones\n",
            "Inciso -F- ciclo de vida: 4 iteraciones\n"
          ]
        }
      ]
    },
    {
      "cell_type": "markdown",
      "source": [
        "# Punto N°3\n",
        "## Programe en el software de su preferencia la seria congruencial:\n",
        "\n",
        "> Xi+1 = (553+121Xi) mod 177, con X0=23\n",
        "\n",
        "## Y haga lo que se indica:\n",
        "1. Determine el ciclo o periodo de vida\n",
        "2. Realice las pruebas de media, varianza y uniformidad (chi-cuadrado)"
      ],
      "metadata": {
        "id": "8E4Gq9EsMGQd"
      }
    },
    {
      "cell_type": "code",
      "source": [
        "import math\n",
        "\n",
        "def periodo_de_vida(a, c, m, x0):\n",
        "    residuos = []\n",
        "    aleatorios = []\n",
        "\n",
        "    xi = ((a * x0) + c) % m\n",
        "    ri = xi / (m - 1)\n",
        "\n",
        "    while xi not in residuos:\n",
        "        residuos.append(xi)\n",
        "        aleatorios.append(ri)\n",
        "\n",
        "        xi = ((a * xi) + c) % m\n",
        "        ri = xi / (m - 1)\n",
        "\n",
        "    print(f\"Ciclo de vida: {len(residuos)} iteraciones\")\n",
        "    prueba_media(aleatorios, m)\n",
        "\n",
        "    return aleatorios\n",
        "\n",
        "def prueba_media(residuos, m):\n",
        "    media_valor = media(residuos)\n",
        "    acumulador = 0\n",
        "    resta_cuadrado = 0.0\n",
        "    varianza = 0.0\n",
        "\n",
        "    for valor in residuos:\n",
        "        resta_cuadrado = valor - media_valor\n",
        "        resta_cuadrado = resta_cuadrado * resta_cuadrado\n",
        "        acumulador += resta_cuadrado\n",
        "\n",
        "    varianza = acumulador / (len(residuos) - 1)\n",
        "    print(f\"Varianza: {varianza}\")\n",
        "\n",
        "def media(lista):\n",
        "    media_valor = sum(lista) / len(lista)\n",
        "    print(f\"Media: {media_valor}\")\n",
        "    return media_valor\n",
        "\n",
        "def histograma(lista_xi):\n",
        "    menor = float('inf')\n",
        "    mayor = float('-inf')\n",
        "\n",
        "    for valor in lista_xi:\n",
        "        if menor > valor:\n",
        "            menor = valor\n",
        "        if mayor < valor:\n",
        "            mayor = valor\n",
        "\n",
        "    rango = mayor - menor\n",
        "    intervalos = int(math.sqrt(len(lista_xi)))\n",
        "    ancho_intervalo = rango / intervalos\n",
        "\n",
        "    # Creación intervalos\n",
        "    intervalo = [menor + (i * ancho_intervalo) for i in range(intervalos + 1)]\n",
        "\n",
        "    # Cálculo de la frecuencia\n",
        "    frecuencia = [0] * (intervalos + 1)\n",
        "\n",
        "    for i in range(len(intervalo)):\n",
        "        for valor in lista_xi:\n",
        "            if i == 0:\n",
        "                if valor <= intervalo[i]:\n",
        "                    frecuencia[i] += 1\n",
        "            else:\n",
        "                if intervalo[i-1] < valor <= intervalo[i]:\n",
        "                    frecuencia[i] += 1\n",
        "\n",
        "    # Crear histograma como una lista de dos listas\n",
        "    histograma = [frecuencia, intervalo]\n",
        "\n",
        "    return histograma\n",
        "\n",
        "def prueba_chi_cuadrada(histograma, n):\n",
        "    chi_cuadrado = 0.0\n",
        "    fe = n / (len(histograma[0]) - 1)  # Frecuencia esperada\n",
        "\n",
        "    for fo in histograma[0]:  # Frecuencia observada\n",
        "        chi_cuadrado += (fo - fe) ** 2 / fe\n",
        "\n",
        "    print(f\"Chi-cuadrado: {chi_cuadrado}\")\n",
        "\n",
        "    # Comparar el valor calculado con el valor crítico\n",
        "    valor_critico = 113.145 # Valor crítico de chi-cuadrado para k=86 y alpha=0.05\n",
        "    #valor_critico = 23.8442  # Valor crítico de chi-cuadrado para k=31 y alpha=0.999\n",
        "\n",
        "    if chi_cuadrado < valor_critico:\n",
        "        print(\"No se rechaza la hipótesis nula, los datos son uniformes.\")\n",
        "    else:\n",
        "        print(\"Se rechaza la hipótesis nula, los datos no son uniformes.\")\n",
        "\n",
        "def main():\n",
        "    lista_xi = periodo_de_vida(121, 553, 177, 23)\n",
        "    histograma_resultado = histograma(lista_xi)\n",
        "    prueba_chi_cuadrada(histograma_resultado, len(lista_xi))\n",
        "\n",
        "if __name__ == \"__main__\":\n",
        "    main()"
      ],
      "metadata": {
        "colab": {
          "base_uri": "https://localhost:8080/"
        },
        "id": "ORNiE5C-WuU6",
        "outputId": "8553645a-07eb-471f-8a96-7aba3ea8b02f"
      },
      "execution_count": null,
      "outputs": [
        {
          "output_type": "stream",
          "name": "stdout",
          "text": [
            "Ciclo de vida: 87 iteraciones\n",
            "Media: 0.5039184952978055\n",
            "Varianza: 0.08430781396011584\n",
            "Chi-cuadrado: 14.2183908045977\n",
            "No se rechaza la hipótesis nula, los datos son uniformes.\n"
          ]
        }
      ]
    },
    {
      "cell_type": "markdown",
      "source": [
        "# Punto N°3\n",
        "## Programe en el software de su preferencia la seria congruencial:\n",
        "\n",
        "> Xi+1 = (553+121Xi) mod 177, con X0=23\n",
        "\n",
        "## Y haga lo que se indica:\n",
        "1. Determine el ciclo o periodo de vida\n",
        "2. Realice las pruebas de media, varianza y uniformidad (chi-cuadrado)"
      ],
      "metadata": {
        "id": "VY5lFjx0M3rA"
      }
    },
    {
      "cell_type": "code",
      "source": [
        "import math\n",
        "\n",
        "def periodo_de_vida(a, c, m, x0):\n",
        "    residuos = []\n",
        "    aleatorios = []\n",
        "\n",
        "    xi = ((a * x0) + c) % m\n",
        "    ri = xi / (m - 1)\n",
        "\n",
        "    while xi not in residuos:\n",
        "        residuos.append(xi)\n",
        "        aleatorios.append(ri)\n",
        "\n",
        "        xi = ((a * xi) + c) % m\n",
        "        ri = xi / (m - 1)\n",
        "\n",
        "    print(f\"Ciclo de vida: {len(residuos)} iteraciones\")\n",
        "    prueba_media(aleatorios, m)\n",
        "\n",
        "    return aleatorios\n",
        "\n",
        "def prueba_media(residuos, m):\n",
        "    media_valor = media(residuos)\n",
        "    acumulador = 0\n",
        "    resta_cuadrado = 0.0\n",
        "    varianza = 0.0\n",
        "\n",
        "    for valor in residuos:\n",
        "        resta_cuadrado = valor - media_valor\n",
        "        resta_cuadrado = resta_cuadrado * resta_cuadrado\n",
        "        acumulador += resta_cuadrado\n",
        "\n",
        "    varianza = acumulador / (len(residuos) - 1)\n",
        "    print(f\"Varianza: {varianza}\")\n",
        "\n",
        "def media(lista):\n",
        "    media_valor = sum(lista) / len(lista)\n",
        "    print(f\"Media: {media_valor}\")\n",
        "    return media_valor\n",
        "\n",
        "def histograma(lista_xi):\n",
        "    menor = float('inf')\n",
        "    mayor = float('-inf')\n",
        "\n",
        "    for valor in lista_xi:\n",
        "        if menor > valor:\n",
        "            menor = valor\n",
        "        if mayor < valor:\n",
        "            mayor = valor\n",
        "\n",
        "    rango = mayor - menor\n",
        "    intervalos = int(math.sqrt(len(lista_xi)))\n",
        "    ancho_intervalo = rango / intervalos\n",
        "\n",
        "    # Creación intervalos\n",
        "    intervalo = [menor + (i * ancho_intervalo) for i in range(intervalos + 1)]\n",
        "\n",
        "    # Cálculo de la frecuencia\n",
        "    frecuencia = [0] * (intervalos + 1)\n",
        "\n",
        "    for i in range(len(intervalo)):\n",
        "        for valor in lista_xi:\n",
        "            if i == 0:\n",
        "                if valor <= intervalo[i]:\n",
        "                    frecuencia[i] += 1\n",
        "            else:\n",
        "                if intervalo[i-1] < valor <= intervalo[i]:\n",
        "                    frecuencia[i] += 1\n",
        "\n",
        "    # Crear histograma como una lista de dos listas\n",
        "    histograma = [frecuencia, intervalo]\n",
        "\n",
        "    return histograma\n",
        "\n",
        "def prueba_chi_cuadrada(histograma, n):\n",
        "    chi_cuadrado = 0.0\n",
        "    k = len(histograma[0]) - 1  # Número de intervalos\n",
        "    fe = n / k  # Frecuencia esperada\n",
        "\n",
        "    for fo in histograma[0]:  # Frecuencia observada\n",
        "        chi_cuadrado += (fo - fe) ** 2 / fe\n",
        "\n",
        "    print(f\"Chi-cuadrado: {chi_cuadrado}\")\n",
        "\n",
        "    # Comparar el valor calculado con el valor crítico\n",
        "    valor_critico = 23.6848  # Valor crítico de chi-cuadrado para k=86 y alpha=0.05\n",
        "\n",
        "    if chi_cuadrado < valor_critico:\n",
        "        print(\"No se rechaza la hipótesis nula, los datos son uniformes.\")\n",
        "    else:\n",
        "        print(\"Se rechaza la hipótesis nula, los datos no son uniformes.\")\n",
        "\n",
        "def main():\n",
        "    lista_xi = periodo_de_vida(121, 553, 177, 23)\n",
        "    histograma_resultado = histograma(lista_xi)\n",
        "    prueba_chi_cuadrada(histograma_resultado, len(lista_xi))\n",
        "\n",
        "if __name__ == \"__main__\":\n",
        "    main()\n"
      ],
      "metadata": {
        "colab": {
          "base_uri": "https://localhost:8080/"
        },
        "id": "GCb9I70agAvD",
        "outputId": "e5d59982-6e34-4317-81bb-a82c23a3f38e"
      },
      "execution_count": null,
      "outputs": [
        {
          "output_type": "stream",
          "name": "stdout",
          "text": [
            "Ciclo de vida: 87 iteraciones\n",
            "Media: 0.5039184952978055\n",
            "Varianza: 0.08430781396011584\n",
            "Chi-cuadrado: 14.2183908045977\n",
            "No se rechaza la hipótesis nula, los datos son uniformes.\n"
          ]
        }
      ]
    },
    {
      "cell_type": "markdown",
      "source": [
        "# Punto N°4: Versión Librerías\n",
        "\n",
        "## Realice las pruebas de uniformidad e independencia a los primeros 100 aleatorios de los siguientes generadores:\n",
        "\n",
        "1. Xi+1 = (1117*Xi+3057) mod 1679567; semilla 1457\n",
        "2. Xi+1 = (2177*Xi+2367) mod 1351867; semilla 1117\n"
      ],
      "metadata": {
        "id": "AoWY07e-3UBm"
      }
    },
    {
      "cell_type": "code",
      "source": [
        "import numpy as np\n",
        "from scipy.stats import kstest\n",
        "from statsmodels.tsa.stattools import acf\n",
        "def generador_a(n, semilla):\n",
        "    a, c, m = 1117, 3057, 1679567\n",
        "    X = np.zeros(n)\n",
        "    X[0] = semilla\n",
        "    for i in range(1, n):\n",
        "        X[i] = (a * X[i-1] + c) % m\n",
        "    return X / m\n",
        "\n",
        "def generador_b(n, semilla):\n",
        "    a, c, m = 2177, 2367, 1351867\n",
        "    X = np.zeros(n)\n",
        "    X[0] = semilla\n",
        "    for i in range(1, n):\n",
        "        X[i] = (a * X[i-1] + c) % m\n",
        "    return X / m\n",
        "\n",
        "n = 100\n",
        "semilla_a = 1457\n",
        "semilla_b = 1117\n",
        "\n",
        "numeros_a = generador_a(n, semilla_a)\n",
        "numeros_b = generador_b(n, semilla_b)\n",
        "\n",
        "# Prueba de uniformidad para el generador a\n",
        "ks_stat_a, p_value_a = kstest(numeros_a, 'uniform')\n",
        "print(f\"Prueba de uniformidad para el generador a: KS-Statistic = {ks_stat_a}, p-value = {p_value_a}\")\n",
        "\n",
        "# Prueba de uniformidad para el generador b\n",
        "ks_stat_b, p_value_b = kstest(numeros_b, 'uniform')\n",
        "print(f\"Prueba de uniformidad para el generador b: KS-Statistic = {ks_stat_b}, p-value = {p_value_b}\")\n",
        "\n",
        "def prueba_autocorrelacion(numeros, lags=10):\n",
        "    autocorr = acf(numeros, nlags=lags)\n",
        "    autocorr_decimal = [f\"{x:.16f}\" for x in autocorr]  # Convertir a formato decimal completo\n",
        "    print(\"Autocorrelación:\", autocorr_decimal)\n",
        "\n",
        "print(\"Prueba de independencia para el generador a:\")\n",
        "prueba_autocorrelacion(numeros_a)\n",
        "\n",
        "print(\"Prueba de independencia para el generador b:\")\n",
        "prueba_autocorrelacion(numeros_b)"
      ],
      "metadata": {
        "colab": {
          "base_uri": "https://localhost:8080/"
        },
        "id": "OkTbsAdL2yhf",
        "outputId": "eeb18617-ebb0-4025-b64f-72abef6a6154"
      },
      "execution_count": null,
      "outputs": [
        {
          "output_type": "stream",
          "name": "stdout",
          "text": [
            "Prueba de uniformidad para el generador a: KS-Statistic = 0.06629258017096074, p-value = 0.7462965346515487\n",
            "Prueba de uniformidad para el generador b: KS-Statistic = 0.07342754871596097, p-value = 0.6267966344856117\n",
            "Prueba de independencia para el generador a:\n",
            "Autocorrelación: ['1.0000000000000000', '-0.1599214932336367', '0.1637790543944634', '0.0009455439272282', '0.0035994885292793', '-0.0371639818676377', '-0.0441502550126623', '0.0118782075562888', '0.1071241200313088', '-0.0579373320126153', '0.0852992376463141']\n",
            "Prueba de independencia para el generador b:\n",
            "Autocorrelación: ['1.0000000000000000', '0.0007175369091640', '-0.0730742271095327', '-0.0300380031353532', '-0.0990201441149072', '0.0174619891191076', '0.0395941277420939', '0.1579552207578035', '-0.0794904333090479', '-0.0568226678303320', '-0.0348859084403256']\n"
          ]
        }
      ]
    },
    {
      "cell_type": "markdown",
      "source": [
        "# Punto N°4: Versión SIN librerías\n",
        "\n",
        "## Realice las pruebas de uniformidad e independencia a los primeros 100 aleatorios de los siguientes generadores:\n",
        "\n",
        "1. Xi+1 = (1117*Xi+3057) mod 1679567; **semilla** 1457\n",
        "2. Xi+1 = (2177*Xi+2367) mod 1351867; **semilla** 1117"
      ],
      "metadata": {
        "id": "lMNHCuoR3axZ"
      }
    },
    {
      "cell_type": "code",
      "source": [
        "def generador_a(n, semilla):\n",
        "    a, c, m = 1117, 3057, 1679567\n",
        "    X = [0] * n\n",
        "    X[0] = semilla\n",
        "    for i in range(1, n):\n",
        "        X[i] = (a * X[i-1] + c) % m\n",
        "    return [x / m for x in X]\n",
        "\n",
        "def generador_b(n, semilla):\n",
        "    a, c, m = 2177, 2367, 1351867\n",
        "    X = [0] * n\n",
        "    X[0] = semilla\n",
        "    for i in range(1, n):\n",
        "        X[i] = (a * X[i-1] + c) % m\n",
        "    return [x / m for x in X]\n",
        "\n",
        "n = 100\n",
        "semilla_a = 1457\n",
        "semilla_b = 1117\n",
        "\n",
        "numeros_a = generador_a(n, semilla_a)\n",
        "numeros_b = generador_b(n, semilla_b)\n",
        "\n",
        "def kolmogorov_smirnov_prueba(datos):\n",
        "    datos_ordenados = sorted(datos)\n",
        "    print(datos_ordenados)\n",
        "    print(\"SORTED\")\n",
        "    n = len(datos)\n",
        "    D_plus = max((i + 1) / n - x for i, x in enumerate(datos_ordenados))\n",
        "    print (D_plus)\n",
        "    D_minus = max(x - i / n for i, x in enumerate(datos_ordenados))\n",
        "    D = max(D_plus, D_minus)\n",
        "    return D\n",
        "\n",
        "D_a = kolmogorov_smirnov_prueba(numeros_a)\n",
        "D_b = kolmogorov_smirnov_prueba(numeros_b)\n",
        "\n",
        "print(f\"Prueba de uniformidad para el generador a: D = {D_a}\")\n",
        "print(f\"Prueba de uniformidad para el generador b: D = {D_b}\")\n",
        "\n",
        "def autocorrelacion(datos, lag):\n",
        "    n = len(datos)\n",
        "    media = sum(datos) / n\n",
        "    numerador = sum((datos[i] - media) * (datos[i + lag] - media) for i in range(n - lag))\n",
        "    denominador = sum((datos[i] - media) ** 2 for i in range(n))\n",
        "    return numerador / denominador\n",
        "\n",
        "def prueba_autocorrelacion(datos, max_lag=10):\n",
        "    autocorrs = [autocorrelacion(datos, lag) for lag in range(1, max_lag + 1)]\n",
        "    print(f\"Autocorrelaciones: {autocorrs}\")\n",
        "\n",
        "print(\"Prueba de independencia para el generador a:\")\n",
        "prueba_autocorrelacion(numeros_a)\n",
        "\n",
        "print(\"Prueba de independencia para el generador b:\")\n",
        "prueba_autocorrelacion(numeros_b)"
      ],
      "metadata": {
        "colab": {
          "base_uri": "https://localhost:8080/"
        },
        "id": "7UU5d0FJ3SEs",
        "outputId": "8e1712f7-798f-4da0-fe2b-799fb26da766"
      },
      "execution_count": 23,
      "outputs": [
        {
          "output_type": "stream",
          "name": "stdout",
          "text": [
            "[0.0008674854888194398, 0.009815625098611726, 0.02761187853774217, 0.03469406102882469, 0.048090966302624424, 0.07098317602096255, 0.07200605870441608, 0.0931924716310811, 0.09381584658426845, 0.09781092388693038, 0.1019637799504277, 0.12152775090246475, 0.12596818108476768, 0.13487762024378902, 0.13723298921686364, 0.1464728706863138, 0.1487746544198594, 0.1831090989522895, 0.1878353170787471, 0.20226403590925518, 0.21004758964661727, 0.21448027973876602, 0.2367812656476342, 0.2434478648365918, 0.25662209367057104, 0.25791528411787085, 0.26656870491025364, 0.27337641189663764, 0.2900277273844985, 0.291069067206012, 0.30365802614602455, 0.31958891785799554, 0.3308138347562199, 0.3540019540750682, 0.35800953460028684, 0.3632722005135848, 0.37131296340068604, 0.3789631494307759, 0.38698724135446816, 0.41543981276126524, 0.42200281382046684, 0.4325876848020948, 0.43319617496652413, 0.47079396058627015, 0.48077510453587147, 0.48649384037671617, 0.4957253863644618, 0.5000913926029744, 0.5208735346669707, 0.534683641676694, 0.5644305943138916, 0.5762925801709607, 0.5854782810093315, 0.5919740028233468, 0.5931010790281066, 0.5983149228342781, 0.6039056494918036, 0.604540336884447, 0.6120166685818428, 0.612218506317402, 0.6244389178877651, 0.6249777472408067, 0.6475847644065404, 0.6486987419971934, 0.6601219242816749, 0.7082783836548349, 0.7194294720008193, 0.7206321629324701, 0.7270766810731576, 0.7483178700224522, 0.755086281166515, 0.7584002305356082, 0.7590634967226673, 0.7634717757612528, 0.7768680856435022, 0.7941207465971885, 0.7997936372886584, 0.8044674609586876, 0.8138692889298254, 0.8175583349756217, 0.8442884386273367, 0.8458394336159261, 0.8498916685074189, 0.8576222323968022, 0.8604021155452566, 0.8728809270484595, 0.8757459511886099, 0.8786740868330944, 0.8819475495767659, 0.8823488434816831, 0.8953623165970753, 0.8984702604897572, 0.9307482226073744, 0.933085134442389, 0.947946107538431, 0.9658536991974718, 0.9658733471186324, 0.9708014029806492, 0.9810599993927006, 0.9826413593503563]\n",
            "SORTED\n",
            "0.02152973951024284\n",
            "[0.0008262647139104661, 0.005741689086278458, 0.035863735115954455, 0.038289269580513464, 0.0405099022315065, 0.04467599253476858, 0.053171650761502424, 0.060835866250156266, 0.07710225931988872, 0.10169935356066832, 0.13387263687921963, 0.13803059028735815, 0.16711259317669563, 0.17352446653405992, 0.19180806987669646, 0.1929220847908855, 0.23342754871596097, 0.23383513318987742, 0.2463252672045401, 0.25185761617082153, 0.25919783529001006, 0.26138666007824735, 0.2617032592703276, 0.26368126450309093, 0.26931125621085505, 0.2754383382388948, 0.2837542450551718, 0.29235568291851194, 0.2957813157655302, 0.30683121934332297, 0.3113065116612803, 0.3286869196452018, 0.34312916877178007, 0.349565452814515, 0.34994048970793723, 0.3574907886648613, 0.3614867438882671, 0.36632819648678455, 0.3725936057319248, 0.37723977284747684, 0.3843669532579758, 0.4012436134619752, 0.40132498241321074, 0.40167412918578527, 0.4219113270758144, 0.43158609537772574, 0.4414317384772319, 0.44248139794817093, 0.44633014934161425, 0.46007262548756644, 0.49434596746573445, 0.498234663617057, 0.5014080527152449, 0.5027099559350143, 0.509097418607008, 0.5359491725147518, 0.5385529789542907, 0.5531749794913257, 0.5646805491960378, 0.5670816729752262, 0.5679190334552141, 0.5798565983192133, 0.6310132579610273, 0.6586136062201385, 0.6595404725464857, 0.662486028581214, 0.6862376254468819, 0.6926576356993699, 0.7160267984942306, 0.7176134930433246, 0.7297463433902891, 0.7347423969961542, 0.7538064025529139, 0.7564346196778233, 0.759917950508445, 0.7630994765017565, 0.7645145565355171, 0.7686081545004058, 0.7809518244028444, 0.7870463588503899, 0.7920912338269963, 0.8005291940701267, 0.8035716531285992, 0.8058662575534428, 0.8205452163563427, 0.8213596455864371, 0.8221970060664252, 0.8337920816174964, 0.8533694512847787, 0.9094252615087135, 0.9174238294151718, 0.9176753334462636, 0.9246331184946448, 0.928049874728801, 0.94106150974911, 0.9583923566445516, 0.9733154223011583, 0.9931295016447624, 0.9939513280522418, 0.9986455768207967]\n",
            "SORTED\n",
            "0.04780299393357479\n",
            "Prueba de uniformidad para el generador a: D = 0.06629258017096074\n",
            "Prueba de uniformidad para el generador b: D = 0.07342754871596097\n",
            "Prueba de independencia para el generador a:\n",
            "Autocorrelaciones: [-0.1599214932336366, 0.1637790543944634, 0.0009455439272282326, 0.0035994885292792707, -0.037163981867637697, -0.044150255012662336, 0.011878207556288803, 0.10712412003130879, -0.057937332012615306, 0.08529923764631403]\n",
            "Prueba de independencia para el generador b:\n",
            "Autocorrelaciones: [0.0007175369091640445, -0.07307422710953272, -0.0300380031353532, -0.09902014411490721, 0.017461989119107565, 0.03959412774209397, 0.15795522075780352, -0.07949043330904793, -0.05682266783033205, -0.034885908440325554]\n"
          ]
        }
      ]
    },
    {
      "cell_type": "markdown",
      "source": [
        "# Punto N°5\n",
        "\n",
        "## para cada uno de los generadores del problema anterior tome ahora los datos de 101 al 200 y realice las pruebas de media, varianza."
      ],
      "metadata": {
        "id": "zr6gIwqb8rsm"
      }
    },
    {
      "cell_type": "code",
      "source": [
        "# Función para generar números pseudoaleatorios con el generador a\n",
        "def generador_a(n, semilla):\n",
        "    a, c, m = 1117, 3057, 1679567\n",
        "    X = [0] * n\n",
        "    X[0] = semilla\n",
        "    for i in range(1, n):\n",
        "        X[i] = (a * X[i-1] + c) % m\n",
        "    return [x / m for x in X]\n",
        "\n",
        "# Función para generar números pseudoaleatorios con el generador b\n",
        "def generador_b(n, semilla):\n",
        "    a, c, m = 2177, 2367, 1351867\n",
        "    X = [0] * n\n",
        "    X[0] = semilla\n",
        "    for i in range(1, n):\n",
        "        X[i] = (a * X[i-1] + c) % m\n",
        "    return [x / m for x in X]\n",
        "\n",
        "# Generar 200 números con cada generador\n",
        "n = 200\n",
        "semilla_a = 1457\n",
        "semilla_b = 1117\n",
        "\n",
        "numeros_a = generador_a(n, semilla_a)\n",
        "numeros_b = generador_b(n, semilla_b)\n",
        "\n",
        "# Tomar los datos del 101 al 200 (índices del 100 al 199 en Python)\n",
        "numeros_a_101_200 = numeros_a[100:200]\n",
        "numeros_b_101_200 = numeros_b[100:200]\n",
        "\n",
        "# Función para calcular la media de un conjunto de datos\n",
        "def prueba_media(datos):\n",
        "    n = len(datos)\n",
        "    media = sum(datos) / n\n",
        "    return media\n",
        "\n",
        "# Calcular la media para los números generados del 101 al 200\n",
        "media_a = prueba_media(numeros_a_101_200)\n",
        "media_b = prueba_media(numeros_b_101_200)\n",
        "\n",
        "print(f\"Media para el generador a: {media_a}\")\n",
        "print(f\"Media para el generador b: {media_b}\")\n",
        "\n",
        "# Función para calcular la varianza de un conjunto de datos\n",
        "def prueba_varianza(datos):\n",
        "    n = len(datos)\n",
        "    media = sum(datos) / n\n",
        "    varianza = sum((x - media) ** 2 for x in datos) / (n - 1)\n",
        "    return varianza\n",
        "\n",
        "# Calcular la varianza para los números generados del 101 al 200\n",
        "varianza_a = prueba_varianza(numeros_a_101_200)\n",
        "varianza_b = prueba_varianza(numeros_b_101_200)\n",
        "\n",
        "print(f\"Varianza para el generador a: {varianza_a}\")\n",
        "print(f\"Varianza para el generador b: {varianza_b}\")"
      ],
      "metadata": {
        "colab": {
          "base_uri": "https://localhost:8080/"
        },
        "id": "XMZpogo68t5j",
        "outputId": "c75269d7-e353-4884-f960-dc2a3a9c4228"
      },
      "execution_count": null,
      "outputs": [
        {
          "output_type": "stream",
          "name": "stdout",
          "text": [
            "Media para el generador a: 0.5011150195258657\n",
            "Media para el generador b: 0.48044859442533927\n",
            "Varianza para el generador a: 0.08194352882686691\n",
            "Varianza para el generador b: 0.09401610389416853\n"
          ]
        }
      ]
    },
    {
      "cell_type": "markdown",
      "source": [
        "# Punto N°6 (Versión Librerías)\n",
        "\n",
        "## Realice las pruebas de media, varianza y uniformidad a los 50 números de la tabla siguiente, con un nivel de aceptación del 95% (0.95)\n",
        "\n",
        "`| 0.8797 | 0.3884 | 0.6289 | 0.8750 | 0.5999 | 0.8589 | 0.9996 | 0.2415 | 0.3808 | 0.9606 | 0.9848 | 0.3469 | 0.7977 | 0.5844 | 0.8147 | 0.6431 | 0.7387 | 0.5613 | 0.0318 | 0.7401 | 0.4557 | 0.1592 | 0.8536 | 0.8846 | 0.3410 | 0.1492 | 0.8681 | 0.5291 | 0.3188 | 0.5992 | 0.9170 | 0.2204 | 0.5991 | 0.5461 | 0.5739 | 0.3254 | 0.0856 | 0.2258 | 0.4603 | 0.5027 | 0.8376 | 0.6235 | 0.3681 | 0.2088 | 0.1525 | 0.2006 | 0.4720 | 0.4272 | 0.6360 | 0.0954 |`"
      ],
      "metadata": {
        "id": "CoST_YF5uPpK"
      }
    },
    {
      "cell_type": "code",
      "source": [
        "import numpy as np\n",
        "from scipy.stats import chi2, norm\n",
        "\n",
        "# Los números proporcionados\n",
        "numeros = [\n",
        "    0.8797, 0.3884, 0.6289, 0.8750, 0.5999, 0.8589, 0.9996, 0.2415, 0.3808, 0.9606,\n",
        "    0.9848, 0.3469, 0.7977, 0.5844, 0.8147, 0.6431, 0.7387, 0.5613, 0.0318, 0.7401,\n",
        "    0.4557, 0.1592, 0.8536, 0.8846, 0.3410, 0.1492, 0.8681, 0.5291, 0.3188, 0.5992,\n",
        "    0.9170, 0.2204, 0.5991, 0.5461, 0.5739, 0.3254, 0.0856, 0.2258, 0.4603, 0.5027,\n",
        "    0.8376, 0.6235, 0.3681, 0.2088, 0.1525, 0.2006, 0.4720, 0.4272, 0.6360, 0.0954\n",
        "]\n",
        "\n",
        "n = len(numeros)\n",
        "nivel_confianza = 0.95\n",
        "\n",
        "# Prueba de la media\n",
        "media_muestral = np.mean(numeros)\n",
        "media_esperada = 0.5\n",
        "z_score = (media_muestral - media_esperada) / (np.std(numeros) / np.sqrt(n))\n",
        "p_valor_media = 2 * (1 - norm.cdf(abs(z_score)))\n",
        "\n",
        "print(f\"Prueba de la media: z = {z_score:.4f}, p-valor = {p_valor_media:.4f}\")\n",
        "\n",
        "# Prueba de la varianza\n",
        "varianza_muestral = np.var(numeros, ddof=1)\n",
        "varianza_esperada = 1/12\n",
        "chi2_stat = (n - 1) * varianza_muestral / varianza_esperada\n",
        "p_valor_varianza = chi2.sf(chi2_stat, df=n-1)\n",
        "\n",
        "print(f\"Prueba de la varianza: chi-cuadrado = {chi2_stat:.4f}, p-valor = {p_valor_varianza:.4f}\")\n",
        "\n",
        "# Prueba de uniformidad (chi-cuadrado)\n",
        "intervalos = 10\n",
        "observados, _ = np.histogram(numeros, bins=intervalos)\n",
        "esperados = np.full(intervalos, n / intervalos)\n",
        "chi2_uniformidad = np.sum((observados - esperados) ** 2 / esperados)\n",
        "p_valor_uniformidad = chi2.sf(chi2_uniformidad, df=intervalos - 1)\n",
        "\n",
        "print(f\"Prueba de uniformidad: chi-cuadrado = {chi2_uniformidad:.4f}, p-valor = {p_valor_uniformidad:.4f}\")\n"
      ],
      "metadata": {
        "colab": {
          "base_uri": "https://localhost:8080/"
        },
        "id": "KQzd0MZousUD",
        "outputId": "a3ee2a91-5c38-4161-825d-d87f61a1fd17"
      },
      "execution_count": null,
      "outputs": [
        {
          "output_type": "stream",
          "name": "stdout",
          "text": [
            "Prueba de la media: z = 0.8868, p-valor = 0.3752\n",
            "Prueba de la varianza: chi-cuadrado = 43.7567, p-valor = 0.6850\n",
            "Prueba de uniformidad: chi-cuadrado = 6.8000, p-valor = 0.6579\n"
          ]
        }
      ]
    },
    {
      "cell_type": "markdown",
      "source": [
        "# Punto N°6 (Versión sin librerías)\n",
        "\n",
        "## Realice las pruebas de media, varianza y uniformidad a los 50 números de la tabla siguiente, con un nivel de aceptación del 95% (0.95)\n",
        "\n",
        "`| 0.8797 | 0.3884 | 0.6289 | 0.8750 | 0.5999 | 0.8589 | 0.9996 | 0.2415 | 0.3808 | 0.9606 | 0.9848 | 0.3469 | 0.7977 | 0.5844 | 0.8147 | 0.6431 | 0.7387 | 0.5613 | 0.0318 | 0.7401 | 0.4557 | 0.1592 | 0.8536 | 0.8846 | 0.3410 | 0.1492 | 0.8681 | 0.5291 | 0.3188 | 0.5992 | 0.9170 | 0.2204 | 0.5991 | 0.5461 | 0.5739 | 0.3254 | 0.0856 | 0.2258 | 0.4603 | 0.5027 | 0.8376 | 0.6235 | 0.3681 | 0.2088 | 0.1525 | 0.2006 | 0.4720 | 0.4272 | 0.6360 | 0.0954 |`"
      ],
      "metadata": {
        "id": "BlKuYxeJuqrb"
      }
    },
    {
      "cell_type": "code",
      "source": [
        "import math\n",
        "\n",
        "# Los números proporcionados\n",
        "numeros = [\n",
        "    0.8797, 0.3884, 0.6289, 0.8750, 0.5999, 0.8589, 0.9996, 0.2415, 0.3808, 0.9606,\n",
        "    0.9848, 0.3469, 0.7977, 0.5844, 0.8147, 0.6431, 0.7387, 0.5613, 0.0318, 0.7401,\n",
        "    0.4557, 0.1592, 0.8536, 0.8846, 0.3410, 0.1492, 0.8681, 0.5291, 0.3188, 0.5992,\n",
        "    0.9170, 0.2204, 0.5991, 0.5461, 0.5739, 0.3254, 0.0856, 0.2258, 0.4603, 0.5027,\n",
        "    0.8376, 0.6235, 0.3681, 0.2088, 0.1525, 0.2006, 0.4720, 0.4272, 0.6360, 0.0954\n",
        "]\n",
        "\n",
        "n = len(numeros)\n",
        "nivel_confianza = 0.95\n",
        "\n",
        "def calcular_media(lista):\n",
        "    return sum(lista) / len(lista)\n",
        "\n",
        "def calcular_varianza(lista):\n",
        "    media = calcular_media(lista)\n",
        "    return sum((x - media) ** 2 for x in lista) / (len(lista) - 1)\n",
        "\n",
        "def calcular_desviacion_estandar(lista):\n",
        "    return calcular_varianza(lista) ** 0.5\n",
        "\n",
        "# Función de la distribución normal acumulada usando la función de error\n",
        "def phi(x):\n",
        "    return (1 + math.erf(x / math.sqrt(2))) / 2\n",
        "\n",
        "# Prueba de la media\n",
        "media_muestral = calcular_media(numeros)\n",
        "media_esperada = 0.5\n",
        "desviacion_estandar = calcular_desviacion_estandar(numeros)\n",
        "z_score = (media_muestral - media_esperada) / (desviacion_estandar / (n ** 0.5))\n",
        "p_valor_media = 2 * (1 - phi(abs(z_score)))\n",
        "\n",
        "print(f\"Prueba de la media: z = {z_score:.4f}, p-valor = {p_valor_media:.4f}\")\n",
        "\n",
        "# Prueba de la varianza\n",
        "varianza_muestral = calcular_varianza(numeros)\n",
        "varianza_esperada = 1 / 12\n",
        "chi2_stat = (n - 1) * varianza_muestral / varianza_esperada\n",
        "\n",
        "def chi2_cdf(x, k):\n",
        "    # Mejor aproximación de la función de distribución acumulada chi-cuadrado\n",
        "    return gammainc(k / 2, x / 2)\n",
        "\n",
        "def gammainc(a, x):\n",
        "    # Función gamma incompleta\n",
        "    def gser(a, x):\n",
        "        gln = math.lgamma(a)\n",
        "        ap = a\n",
        "        sum = 1.0 / a\n",
        "        del_ = sum\n",
        "        for n in range(1, 100):\n",
        "            ap += 1\n",
        "            del_ *= x / ap\n",
        "            sum += del_\n",
        "            if abs(del_) < abs(sum) * 1e-7:\n",
        "                break\n",
        "        return sum * math.exp(-x + a * math.log(x) - gln)\n",
        "\n",
        "    def gcf(a, x):\n",
        "        gln = math.lgamma(a)\n",
        "        b = x + 1 - a\n",
        "        c = 1.0 / 1e-30\n",
        "        d = 1.0 / b\n",
        "        h = d\n",
        "        for i in range(1, 100):\n",
        "            an = -i * (i - a)\n",
        "            b += 2\n",
        "            d = an * d + b\n",
        "            if abs(d) < 1e-30:\n",
        "                d = 1e-30\n",
        "            c = b + an / c\n",
        "            if abs(c) < 1e-30:\n",
        "                c = 1e-30\n",
        "            d = 1.0 / d\n",
        "            del_ = d * c\n",
        "            h *= del_\n",
        "            if abs(del_ - 1.0) < 1e-7:\n",
        "                break\n",
        "        return math.exp(-x + a * math.log(x) - gln) * h\n",
        "\n",
        "    if x < 0 or a <= 0:\n",
        "        return 0.0\n",
        "    if x < a + 1:\n",
        "        return gser(a, x)\n",
        "    else:\n",
        "        return 1 - gcf(a, x)\n",
        "\n",
        "p_valor_varianza = 1 - chi2_cdf(chi2_stat, n - 1)\n",
        "\n",
        "print(f\"Prueba de la varianza: chi-cuadrado = {chi2_stat:.4f}, p-valor = {p_valor_varianza:.4f}\")\n",
        "\n",
        "# Prueba de uniformidad (chi-cuadrado)\n",
        "intervalos = 10\n",
        "observados = [0] * intervalos\n",
        "for num in numeros:\n",
        "    observados[int(num * intervalos)] += 1\n",
        "esperados = [n / intervalos] * intervalos\n",
        "chi2_uniformidad = sum((observados[i] - esperados[i]) ** 2 / esperados[i] for i in range(intervalos))\n",
        "p_valor_uniformidad = 1 - chi2_cdf(chi2_uniformidad, intervalos - 1)\n",
        "\n",
        "print(f\"Prueba de uniformidad: chi-cuadrado = {chi2_uniformidad:.4f}, p-valor = {p_valor_uniformidad:.4f}\")\n"
      ],
      "metadata": {
        "colab": {
          "base_uri": "https://localhost:8080/"
        },
        "id": "FDxRQnB0uQ60",
        "outputId": "f2d9771a-b301-40ea-b323-ba5c3be31998"
      },
      "execution_count": null,
      "outputs": [
        {
          "output_type": "stream",
          "name": "stdout",
          "text": [
            "Prueba de la media: z = 0.8778, p-valor = 0.3800\n",
            "Prueba de la varianza: chi-cuadrado = 43.7567, p-valor = 0.6850\n",
            "Prueba de uniformidad: chi-cuadrado = 8.8000, p-valor = 0.4559\n"
          ]
        }
      ]
    },
    {
      "cell_type": "markdown",
      "source": [
        "# Punto N°6 CON librerías\n",
        "\n",
        "## Realice las pruebas de media, varianza y uniformidad a los 50 números de la tabla siguiente, con un nivel de aceptación del 95% (0.95)\n",
        "\n",
        "`| 0.8797 | 0.3884 | 0.6289 | 0.8750 | 0.5999 | 0.8589 | 0.9996 | 0.2415 | 0.3808 | 0.9606 | 0.9848 | 0.3469 | 0.7977 | 0.5844 | 0.8147 | 0.6431 | 0.7387 | 0.5613 | 0.0318 | 0.7401 | 0.4557 | 0.1592 | 0.8536 | 0.8846 | 0.3410 | 0.1492 | 0.8681 | 0.5291 | 0.3188 | 0.5992 | 0.9170 | 0.2204 | 0.5991 | 0.5461 | 0.5739 | 0.3254 | 0.0856 | 0.2258 | 0.4603 | 0.5027 | 0.8376 | 0.6235 | 0.3681 | 0.2088 | 0.1525 | 0.2006 | 0.4720 | 0.4272 | 0.6360 | 0.0954 |`"
      ],
      "metadata": {
        "id": "JE7xYLZXy27K"
      }
    },
    {
      "cell_type": "code",
      "source": [
        "import math\n",
        "from scipy.stats import norm\n",
        "\n",
        "# Los números proporcionados\n",
        "numeros = [\n",
        "    0.6351, 0.0272, 0.0227, 0.3827, 0.0659, 0.3683, 0.2270, 0.7323, 0.4088, 0.2139,\n",
        "    0.4271, 0.4855, 0.2028, 0.1618, 0.5336, 0.7378, 0.3670, 0.6637, 0.1864, 0.6734,\n",
        "    0.9498, 0.9323, 0.0265, 0.4696, 0.7730, 0.9670, 0.7500, 0.5259, 0.5269, 0.5406,\n",
        "    0.3641, 0.0356, 0.2181, 0.0866, 0.6085, 0.4468, 0.0539, 0.9311, 0.3128, 0.1562,\n",
        "    0.8559, 0.7280, 0.7789, 0.1746, 0.6637, 0.0687, 0.5494, 0.1504, 0.8397, 0.2995\n",
        "]\n",
        "\n",
        "n = len(numeros)\n",
        "media = sum(numeros) / n\n",
        "\n",
        "# Determinar las corridas\n",
        "corridas = []\n",
        "for i in range(n):\n",
        "    if numeros[i] > media:\n",
        "        corridas.append(1)\n",
        "    else:\n",
        "        corridas.append(0)\n",
        "\n",
        "# Contar el número de corridas\n",
        "num_corridas = 1\n",
        "for i in range(1, n):\n",
        "    if corridas[i] != corridas[i-1]:\n",
        "        num_corridas += 1\n",
        "\n",
        "# Calcular la media y la varianza de las corridas\n",
        "media_corridas = ((2 * n) - 1) / 3\n",
        "varianza_corridas = (16 * n - 29) / 90\n",
        "\n",
        "# Calcular el z-score\n",
        "z = (num_corridas - media_corridas) / math.sqrt(varianza_corridas)\n",
        "\n",
        "# Calcular el p-valor\n",
        "p_valor = 2 * (1 - norm.cdf(abs(z)))\n",
        "\n",
        "print(f\"Número de corridas: {num_corridas}\")\n",
        "print(f\"Media esperada de corridas: {media_corridas}\")\n",
        "print(f\"Varianza de corridas: {varianza_corridas}\")\n",
        "print(f\"z-score: {z:.4f}\")\n",
        "print(f\"p-valor: {p_valor:.4f}\")\n",
        "\n",
        "# Nivel de aceptación del 90%\n",
        "nivel_aceptacion = 0.10\n",
        "\n",
        "if p_valor < nivel_aceptacion:\n",
        "    print(\"Rechazamos la hipótesis nula: Los números no son independientes.\")\n",
        "else:\n",
        "    print(\"No podemos rechazar la hipótesis nula: Los números son independientes.\")\n"
      ],
      "metadata": {
        "colab": {
          "base_uri": "https://localhost:8080/"
        },
        "id": "x__j6BdHy6SV",
        "outputId": "2c9d0671-ccec-4d6a-87dc-5204e1df37c8"
      },
      "execution_count": null,
      "outputs": [
        {
          "output_type": "stream",
          "name": "stdout",
          "text": [
            "Número de corridas: 26\n",
            "Media esperada de corridas: 33.0\n",
            "Varianza de corridas: 8.566666666666666\n",
            "z-score: -2.3916\n",
            "p-valor: 0.0168\n",
            "Rechazamos la hipótesis nula: Los números no son independientes.\n"
          ]
        }
      ]
    },
    {
      "cell_type": "markdown",
      "source": [
        "# Punto N°6 SIN librerías\n",
        "\n",
        "## Realice las pruebas de media, varianza y uniformidad a los 50 números de la tabla siguiente, con un nivel de aceptación del 95% (0.95)\n",
        "\n",
        "`| 0.8797 | 0.3884 | 0.6289 | 0.8750 | 0.5999 | 0.8589 | 0.9996 | 0.2415 | 0.3808 | 0.9606 | 0.9848 | 0.3469 | 0.7977 | 0.5844 | 0.8147 | 0.6431 | 0.7387 | 0.5613 | 0.0318 | 0.7401 | 0.4557 | 0.1592 | 0.8536 | 0.8846 | 0.3410 | 0.1492 | 0.8681 | 0.5291 | 0.3188 | 0.5992 | 0.9170 | 0.2204 | 0.5991 | 0.5461 | 0.5739 | 0.3254 | 0.0856 | 0.2258 | 0.4603 | 0.5027 | 0.8376 | 0.6235 | 0.3681 | 0.2088 | 0.1525 | 0.2006 | 0.4720 | 0.4272 | 0.6360 | 0.0954 |`"
      ],
      "metadata": {
        "id": "i5wKjxayymsA"
      }
    },
    {
      "cell_type": "code",
      "source": [
        "import math\n",
        "\n",
        "# Los números proporcionados\n",
        "numeros = [\n",
        "    0.6351, 0.0272, 0.0227, 0.3827, 0.0659, 0.3683, 0.2270, 0.7323, 0.4088, 0.2139,\n",
        "    0.4271, 0.4855, 0.2028, 0.1618, 0.5336, 0.7378, 0.3670, 0.6637, 0.1864, 0.6734,\n",
        "    0.9498, 0.9323, 0.0265, 0.4696, 0.7730, 0.9670, 0.7500, 0.5259, 0.5269, 0.5406,\n",
        "    0.3641, 0.0356, 0.2181, 0.0866, 0.6085, 0.4468, 0.0539, 0.9311, 0.3128, 0.1562,\n",
        "    0.8559, 0.7280, 0.7789, 0.1746, 0.6637, 0.0687, 0.5494, 0.1504, 0.8397, 0.2995\n",
        "]\n",
        "\n",
        "n = len(numeros)\n",
        "media = sum(numeros) / n\n",
        "\n",
        "# Determinar las corridas\n",
        "corridas = []\n",
        "for i in range(n):\n",
        "    if numeros[i] > media:\n",
        "        corridas.append(1)\n",
        "    else:\n",
        "        corridas.append(0)\n",
        "\n",
        "# Contar el número de corridas\n",
        "num_corridas = 1\n",
        "for i in range(1, n):\n",
        "    if corridas[i] != corridas[i-1]:\n",
        "        num_corridas += 1\n",
        "\n",
        "# Calcular la media y la varianza de las corridas\n",
        "media_corridas = ((2 * n) - 1) / 3\n",
        "varianza_corridas = (16 * n - 29) / 90\n",
        "\n",
        "# Calcular el z-score\n",
        "z = (num_corridas - media_corridas) / math.sqrt(varianza_corridas)\n",
        "\n",
        "# Calcular el p-valor usando la aproximación de la función de distribución normal acumulada\n",
        "def erf(x):\n",
        "    # Usar la aproximación de Abramowitz y Stegun (1964) para la función de error\n",
        "    t = 1.0 / (1.0 + 0.5 * abs(x))\n",
        "    tau = t * math.exp(-x*x - 1.26551223 + 1.00002368*t + 0.37409196*t**2 + 0.09678418*t**3 - 0.18628806*t**4 + 0.27886807*t**5 - 1.13520398*t**6 + 1.48851587*t**7 - 0.82215223*t**8 + 0.17087277*t**9)\n",
        "    if x >= 0.0:\n",
        "        return 1.0 - tau\n",
        "    else:\n",
        "        return tau - 1.0\n",
        "\n",
        "def phi(x):\n",
        "    return (1.0 + erf(x / math.sqrt(2.0))) / 2.0\n",
        "\n",
        "p_valor = 2 * (1 - phi(abs(z)))\n",
        "\n",
        "print(f\"Número de corridas: {num_corridas}\")\n",
        "print(f\"Media esperada de corridas: {media_corridas:.4f}\")\n",
        "print(f\"Varianza de corridas: {varianza_corridas:.4f}\")\n",
        "print(f\"z-score: {z:.4f}\")\n",
        "print(f\"p-valor: {p_valor:.4f}\")\n",
        "\n",
        "# Nivel de aceptación del 90%\n",
        "nivel_aceptacion = 0.10\n",
        "\n",
        "if p_valor < nivel_aceptacion:\n",
        "    print(\"Rechazamos la hipótesis nula: Los números no son independientes.\")\n",
        "else:\n",
        "    print(\"No podemos rechazar la hipótesis nula: Los números son independientes.\")\n"
      ],
      "metadata": {
        "colab": {
          "base_uri": "https://localhost:8080/"
        },
        "id": "iQ3ARG9xyvTz",
        "outputId": "d335979b-4e6f-48d1-cdd4-a8000e4aba74"
      },
      "execution_count": null,
      "outputs": [
        {
          "output_type": "stream",
          "name": "stdout",
          "text": [
            "Número de corridas: 26\n",
            "Media esperada de corridas: 33.0000\n",
            "Varianza de corridas: 8.5667\n",
            "z-score: -2.3916\n",
            "p-valor: 0.0168\n",
            "Rechazamos la hipótesis nula: Los números no son independientes.\n"
          ]
        }
      ]
    },
    {
      "cell_type": "markdown",
      "source": [
        "# Punto N°7 con librerías\n",
        "\n",
        "## Determine con las pruebas de indepencia de corribas arriba y abajo de la media, si los 50 números de la tabla son independientes con un nivel de aceptación del 90% (0.90)\n",
        "\n",
        "`| 0.6351 | 0.0272 | 0.0227 | 0.3827 | 0.0659 | 0.3683 | 0.2270 | 0.7323 | 0.4088 | 0.2139 | 0.4271 | 0.4855 | 0.2028 | 0.1618 | 0.5336 | 0.7378 | 0.3670 | 0.6637 | 0.1864 | 0.6734 | 0.9498 | 0.9323 | 0.0265 | 0.4696 | 0.7730 | 0.9670 | 0.7500 | 0.5259 | 0.5269 | 0.5406 | 0.3641 | 0.0356 | 0.2181 | 0.0866 | 0.6085 | 0.4468 | 0.0539 | 0.9311 | 0.3128 | 0.1562 | 0.8559 | 0.7280 | 0.7789 | 0.1746 | 0.6637 | 0.0687 | 0.5494 | 0.1504 | 0.8397 | 0.2995 |`"
      ],
      "metadata": {
        "id": "PsN7Q8aN2bJd"
      }
    },
    {
      "cell_type": "code",
      "source": [
        "import numpy as np\n",
        "from scipy.stats import norm\n",
        "\n",
        "# Definir los datos y la media de referencia\n",
        "datos = [0.6351, 0.0272, 0.0227, 0.3827, 0.0659, 0.3683, 0.2270, 0.7323, 0.4088, 0.2139,\n",
        "         0.4271, 0.4855, 0.2028, 0.1618, 0.5336, 0.7378, 0.3670, 0.6637, 0.1864, 0.6734,\n",
        "         0.9498, 0.9323, 0.0265, 0.4696, 0.7730, 0.9670, 0.7500, 0.5259, 0.5269, 0.5406,\n",
        "         0.3641, 0.0356, 0.2181, 0.0866, 0.6085, 0.4468, 0.0539, 0.9311, 0.3128, 0.1562,\n",
        "         0.8559, 0.7280, 0.7789, 0.1746, 0.6637, 0.0687, 0.5494, 0.1504, 0.8397, 0.2995]\n",
        "media_referencia = 0.5\n",
        "\n",
        "# Paso 1: Construir la sucesión S (1 si el número está arriba de la media, 0 si está abajo)\n",
        "S = [1 if num > media_referencia else 0 for num in datos]\n",
        "print(f\"Secuencia S (arriba de la media = 1, abajo de la media = 0):\\n{S}\")\n",
        "\n",
        "# Paso 2: Contar las corridas (Co)\n",
        "Co = 1  # Empezamos con la primera corrida\n",
        "for i in range(1, len(S)):\n",
        "    if S[i] != S[i-1]:\n",
        "        Co += 1\n",
        "print(f\"Número de corridas (Co): {Co}\")\n",
        "\n",
        "# Paso 3 y 4: Contar el número de 0's y 1's en S\n",
        "N0 = S.count(0)\n",
        "N1 = S.count(1)\n",
        "N = len(S)\n",
        "print(f\"Número de 0's en S (N0): {N0}\")\n",
        "print(f\"Número de 1's en S (N1): {N1}\")\n",
        "\n",
        "# Paso 5: Calcular la media (UCo), varianza (θ^2Co), desviación estándar (θCo) y estadístico Z0\n",
        "UCo = round((2 * N0 * N1) / N + 0.5, 4)\n",
        "varianza_Co = round((2 * N0 * N1 * (2 * N0 * N1 - N)) / (N ** 2 * (N - 1)), 4)\n",
        "desviacion_estandar_Co = round(np.sqrt(varianza_Co), 4)\n",
        "Z0 = round((Co - UCo) / desviacion_estandar_Co, 4)\n",
        "\n",
        "print(f\"Media de Co (UCo): {UCo}\")\n",
        "print(f\"Varianza de Co (θ^2Co): {varianza_Co}\")\n",
        "print(f\"Desviación estándar de Co (θCo): {desviacion_estandar_Co}\")\n",
        "print(f\"Estadístico Z0: {Z0}\")\n",
        "\n",
        "# Paso 6: Calcular el nivel de confianza más alto (α) tal que no rechacemos H0\n",
        "alpha_max = round(2 * (1 - norm.cdf(abs(Z0))), 4)  # Calcular el valor de α para el cual Z0 es el límite\n",
        "nivel_confianza_max = round(1 - alpha_max, 4)\n",
        "print(f\"Nivel de confianza máximo para no rechazar H0 (1 - α): {nivel_confianza_max}\")\n",
        "\n",
        "# Paso 7: Determinar si rechazamos H0 o no con el nivel de aceptación del 90%\n",
        "nivel_aceptacion = 0.90\n",
        "alpha = 1 - nivel_aceptacion\n",
        "valor_critico = round(norm.ppf(1 - alpha / 2), 4)\n",
        "print(f\"Valor crítico Zα/2 para α={alpha}: ±{valor_critico}\")\n",
        "\n",
        "# Conclusión de la prueba\n",
        "if -valor_critico <= Z0 <= valor_critico:\n",
        "    print(\"Conclusión: No se rechaza H0. Los números son independientes.\")\n",
        "else:\n",
        "    print(\"Conclusión: Se rechaza H0. Los números no son independientes.\")\n"
      ],
      "metadata": {
        "colab": {
          "base_uri": "https://localhost:8080/"
        },
        "id": "3PNQnO-R2dEv",
        "outputId": "dc41d4e5-5695-4a50-c656-a139417f584f"
      },
      "execution_count": null,
      "outputs": [
        {
          "output_type": "stream",
          "name": "stdout",
          "text": [
            "Secuencia S (arriba de la media = 1, abajo de la media = 0):\n",
            "[1, 0, 0, 0, 0, 0, 0, 1, 0, 0, 0, 0, 0, 0, 1, 1, 0, 1, 0, 1, 1, 1, 0, 0, 1, 1, 1, 1, 1, 1, 0, 0, 0, 0, 1, 0, 0, 1, 0, 0, 1, 1, 1, 0, 1, 0, 1, 0, 1, 0]\n",
            "Número de corridas (Co): 24\n",
            "Número de 0's en S (N0): 28\n",
            "Número de 1's en S (N1): 22\n",
            "Media de Co (UCo): 25.14\n",
            "Varianza de Co (θ^2Co): 11.8875\n",
            "Desviación estándar de Co (θCo): 3.4478\n",
            "Estadístico Z0: -0.3306\n",
            "Nivel de confianza máximo para no rechazar H0 (1 - α): 0.2591\n",
            "Valor crítico Zα/2 para α=0.09999999999999998: ±1.6449\n",
            "Conclusión: No se rechaza H0. Los números son independientes.\n"
          ]
        }
      ]
    },
    {
      "cell_type": "markdown",
      "source": [
        "# Punto N°7 SIN librerías\n",
        "\n",
        "## Determine con las pruebas de indepencia de corribas arriba y abajo de la media, si los 50 números de la tabla son independientes con un nivel de aceptación del 90% (0.90)\n",
        "\n",
        "`| 0.6351 | 0.0272 | 0.0227 | 0.3827 | 0.0659 | 0.3683 | 0.2270 | 0.7323 | 0.4088 | 0.2139 | 0.4271 | 0.4855 | 0.2028 | 0.1618 | 0.5336 | 0.7378 | 0.3670 | 0.6637 | 0.1864 | 0.6734 | 0.9498 | 0.9323 | 0.0265 | 0.4696 | 0.7730 | 0.9670 | 0.7500 | 0.5259 | 0.5269 | 0.5406 | 0.3641 | 0.0356 | 0.2181 | 0.0866 | 0.6085 | 0.4468 | 0.0539 | 0.9311 | 0.3128 | 0.1562 | 0.8559 | 0.7280 | 0.7789 | 0.1746 | 0.6637 | 0.0687 | 0.5494 | 0.1504 | 0.8397 | 0.2995 |`"
      ],
      "metadata": {
        "id": "p2nlLW3m2fLB"
      }
    },
    {
      "cell_type": "code",
      "source": [
        "# Definir los datos y la media de referencia\n",
        "datos = [0.6351, 0.0272, 0.0227, 0.3827, 0.0659, 0.3683, 0.2270, 0.7323, 0.4088, 0.2139,\n",
        "         0.4271, 0.4855, 0.2028, 0.1618, 0.5336, 0.7378, 0.3670, 0.6637, 0.1864, 0.6734,\n",
        "         0.9498, 0.9323, 0.0265, 0.4696, 0.7730, 0.9670, 0.7500, 0.5259, 0.5269, 0.5406,\n",
        "         0.3641, 0.0356, 0.2181, 0.0866, 0.6085, 0.4468, 0.0539, 0.9311, 0.3128, 0.1562,\n",
        "         0.8559, 0.7280, 0.7789, 0.1746, 0.6637, 0.0687, 0.5494, 0.1504, 0.8397, 0.2995]\n",
        "media_referencia = 0.5\n",
        "\n",
        "# Paso 1: Construir la sucesión S (1 si el número está arriba de la media, 0 si está abajo)\n",
        "S = [1 if num > media_referencia else 0 for num in datos]\n",
        "print(f\"Secuencia S (arriba de la media = 1, abajo de la media = 0):\\n{S}\")\n",
        "\n",
        "# Paso 2: Contar las corridas (Co)\n",
        "Co = 1  # Empezamos con la primera corrida\n",
        "for i in range(1, len(S)):\n",
        "    if S[i] != S[i-1]:\n",
        "        Co += 1\n",
        "print(f\"Número de corridas (Co): {Co}\")\n",
        "\n",
        "# Paso 3 y 4: Contar el número de 0's y 1's en S\n",
        "N0 = S.count(0)\n",
        "N1 = S.count(1)\n",
        "N = len(S)\n",
        "print(f\"Número de 0's en S (N0): {N0}\")\n",
        "print(f\"Número de 1's en S (N1): {N1}\")\n",
        "\n",
        "# Paso 5: Calcular la media (UCo), varianza (θ^2Co), desviación estándar (θCo) y estadístico Z0\n",
        "UCo = round((2 * N0 * N1) / N + 0.5, 4)\n",
        "varianza_Co = round((2 * N0 * N1 * (2 * N0 * N1 - N)) / (N ** 2 * (N - 1)), 4)\n",
        "desviacion_estandar_Co = round(varianza_Co ** 0.5, 4)\n",
        "Z0 = round((Co - UCo) / desviacion_estandar_Co, 4)\n",
        "\n",
        "print(f\"Media de Co (UCo): {UCo}\")\n",
        "print(f\"Varianza de Co (θ^2Co): {varianza_Co}\")\n",
        "print(f\"Desviación estándar de Co (θCo): {desviacion_estandar_Co}\")\n",
        "print(f\"Estadístico Z0: {Z0}\")\n",
        "\n",
        "# Paso 6: Calcular el nivel de confianza más alto (α) tal que no rechacemos H0\n",
        "# Cálculo aproximado de α usando la función de distribución normal\n",
        "# Usamos una tabla estándar de Z o el valor aproximado Zα/2 = 1.6449 para el 90% de confianza\n",
        "def normal_cdf(z):\n",
        "    # Usamos una aproximación de la función acumulativa normal para calcular el nivel de confianza\n",
        "    t = 1 / (1 + 0.2316419 * abs(z))\n",
        "    d = 0.3989423 * (2.718281828 ** (-z * z / 2))\n",
        "    prob = d * (0.319381530 * t + -0.356563782 * (t ** 2) + 1.781477937 * (t ** 3) +\n",
        "                -1.821255978 * (t ** 4) + 1.330274429 * (t ** 5))\n",
        "    return 1 - prob if z > 0 else prob\n",
        "\n",
        "alpha_max = round(2 * (1 - normal_cdf(abs(Z0))), 4)\n",
        "nivel_confianza_max = round(1 - alpha_max, 4)\n",
        "print(f\"Nivel de confianza máximo para no rechazar H0 (1 - α): {nivel_confianza_max}\")\n",
        "\n",
        "# Paso 7: Determinar si rechazamos H0 o no con el nivel de aceptación del 90%\n",
        "nivel_aceptacion = 0.90\n",
        "alpha = 1 - nivel_aceptacion\n",
        "valor_critico = 1.6449  # Valor Zα/2 aproximado para un 90% de nivel de confianza\n",
        "print(f\"Valor crítico Zα/2 para α={alpha}: ±{valor_critico}\")\n",
        "\n",
        "# Conclusión de la prueba\n",
        "if -valor_critico <= Z0 <= valor_critico:\n",
        "    print(\"Conclusión: No se rechaza H0. Los números son independientes.\")\n",
        "else:\n",
        "    print(\"Conclusión: Se rechaza H0. Los números no son independientes.\")\n"
      ],
      "metadata": {
        "colab": {
          "base_uri": "https://localhost:8080/"
        },
        "id": "g6Cm2Us12gJa",
        "outputId": "129af08c-ce07-42d7-9436-7b156f0b558d"
      },
      "execution_count": null,
      "outputs": [
        {
          "output_type": "stream",
          "name": "stdout",
          "text": [
            "Secuencia S (arriba de la media = 1, abajo de la media = 0):\n",
            "[1, 0, 0, 0, 0, 0, 0, 1, 0, 0, 0, 0, 0, 0, 1, 1, 0, 1, 0, 1, 1, 1, 0, 0, 1, 1, 1, 1, 1, 1, 0, 0, 0, 0, 1, 0, 0, 1, 0, 0, 1, 1, 1, 0, 1, 0, 1, 0, 1, 0]\n",
            "Número de corridas (Co): 24\n",
            "Número de 0's en S (N0): 28\n",
            "Número de 1's en S (N1): 22\n",
            "Media de Co (UCo): 25.14\n",
            "Varianza de Co (θ^2Co): 11.8875\n",
            "Desviación estándar de Co (θCo): 3.4478\n",
            "Estadístico Z0: -0.3306\n",
            "Nivel de confianza máximo para no rechazar H0 (1 - α): 0.2591\n",
            "Valor crítico Zα/2 para α=0.09999999999999998: ±1.6449\n",
            "Conclusión: No se rechaza H0. Los números son independientes.\n"
          ]
        }
      ]
    },
    {
      "cell_type": "markdown",
      "source": [
        "# Punto N°8 librerías\n",
        "\n",
        "## Determine con la prueba de series para determinar si los 50 numeros de la tabla son independientes con un nivel de aceptación del 90% (0.90)\n",
        "\n",
        "`|0.5858 | 0.8863 | 0.8378 | 0.3203 | 0.4115 | 0.2710 | 0.9238 | 0.1959 | 0.9268 | 0.6702 | 0.6213 | 0.4360 | 0.6279 | 0.8415 | 0.5786 | 0.0543 | 0.3567 | 0.1655 | 0.3880 | 0.8080 | 0.1931 | 0.0843 | 0.9152 | 0.6093 | 0.7587 | 0.4515 | 0.3203 | 0.5139 | 0.7070 | 0.9123 | 0.1242 | 0.8826 | 0.9921 | 0.8523 | 0.6723 | 0.8540 | 0.4722 | 0.4781 | 0.2101 | 0.1680 | 0.8658 | 0.4028 | 0.6136 | 0.8720 | 0.1126 | 0.5857 | 0.9172 | 0.8943 | 0.8095 | 0.6408 |`"
      ],
      "metadata": {
        "id": "wMjpsGjA7jmZ"
      }
    },
    {
      "cell_type": "code",
      "source": [
        "import numpy as np\n",
        "from scipy.stats import chi2\n",
        "\n",
        "# Datos\n",
        "datos = [0.5858, 0.8863, 0.8378, 0.3203, 0.4115, 0.2710, 0.9238, 0.1959, 0.9268, 0.6702,\n",
        "         0.6213, 0.4360, 0.6279, 0.8415, 0.5786, 0.0543, 0.3567, 0.1655, 0.3880, 0.8080,\n",
        "         0.1931, 0.0843, 0.9152, 0.6093, 0.7587, 0.4515, 0.3203, 0.5139, 0.7070, 0.9123,\n",
        "         0.1242, 0.8826, 0.9921, 0.8523, 0.6723, 0.8540, 0.4722, 0.4781, 0.2101, 0.1680,\n",
        "         0.8658, 0.4028, 0.6136, 0.8720, 0.1126, 0.5857, 0.9172, 0.8943, 0.8095, 0.6408]\n",
        "\n",
        "# Paso 1: Definir el número de subintervalos\n",
        "m = 2  # Dos subintervalos: [0, 0.5) y [0.5, 1)\n",
        "N = len(datos) - 1  # Número de pares de datos\n",
        "\n",
        "# Paso 2: Crear una matriz para contar las frecuencias observadas\n",
        "O = np.zeros((m, m))\n",
        "\n",
        "# Paso 3: Contar las frecuencias observadas para los pares de subintervalos\n",
        "for i in range(N):\n",
        "    x = 0 if datos[i] < 0.5 else 1\n",
        "    y = 0 if datos[i + 1] < 0.5 else 1\n",
        "    O[x][y] += 1\n",
        "\n",
        "print(\"\\n=== PRUEBA DE INDEPENDENCIA CHI-CUADRADO ===\")\n",
        "print(\"\\n1. Matriz de Frecuencias Observadas (O):\")\n",
        "print(f\"   [0, 0.5)    [0.5, 1)\")\n",
        "print(f\"[0, 0.5)  {O[0][0]:.0f}          {O[0][1]:.0f}\")\n",
        "print(f\"[0.5, 1)  {O[1][0]:.0f}          {O[1][1]:.0f}\")\n",
        "\n",
        "# Paso 4: Calcular la frecuencia esperada (E)\n",
        "E = N / (m * m)  # Frecuencia esperada para cada par de subintervalos\n",
        "print(f\"\\n2. Frecuencia esperada (E): {E:.4f}\")\n",
        "\n",
        "# Paso 5: Calcular el estadístico de prueba χ²\n",
        "chi2_stat = np.sum((O - E) ** 2 / E)\n",
        "print(f\"\\n3. Estadístico de prueba χ²: {chi2_stat:.4f}\")\n",
        "\n",
        "# Paso 6: Determinar el valor crítico de χ² para m² - 1 grados de libertad y un nivel de significancia de 0.10\n",
        "grados_libertad = m * m - 1\n",
        "chi2_critico = chi2.ppf(0.90, grados_libertad)\n",
        "print(f\"\\n4. Valor crítico χ² (90% confianza): {chi2_critico:.4f}\")\n",
        "print(f\"   Grados de libertad: {grados_libertad}\")\n",
        "\n",
        "# Conclusión de la prueba\n",
        "print(\"\\n=== CONCLUSIÓN ===\")\n",
        "if chi2_stat < chi2_critico:\n",
        "    print(\"No se rechaza H0: Los números son independientes\")\n",
        "    print(f\"({chi2_stat:.4f} < {chi2_critico:.4f})\")\n",
        "else:\n",
        "    print(\"Se rechaza H0: Los números no son independientes\")\n",
        "    print(f\"({chi2_stat:.4f} > {chi2_critico:.4f})\")"
      ],
      "metadata": {
        "id": "Fe1p2ORqAIF4"
      },
      "execution_count": null,
      "outputs": []
    },
    {
      "cell_type": "markdown",
      "source": [
        "# Punto N°8 SIN librerías\n",
        "\n",
        "## Determine con la prueba de series para determinar si los 50 numeros de la tabla son independientes con un nivel de aceptación del 90% (0.90)\n",
        "\n",
        "`|0.5858 | 0.8863 | 0.8378 | 0.3203 | 0.4115 | 0.2710 | 0.9238 | 0.1959 | 0.9268 | 0.6702 | 0.6213 | 0.4360 | 0.6279 | 0.8415 | 0.5786 | 0.0543 | 0.3567 | 0.1655 | 0.3880 | 0.8080 | 0.1931 | 0.0843 | 0.9152 | 0.6093 | 0.7587 | 0.4515 | 0.3203 | 0.5139 | 0.7070 | 0.9123 | 0.1242 | 0.8826 | 0.9921 | 0.8523 | 0.6723 | 0.8540 | 0.4722 | 0.4781 | 0.2101 | 0.1680 | 0.8658 | 0.4028 | 0.6136 | 0.8720 | 0.1126 | 0.5857 | 0.9172 | 0.8943 | 0.8095 | 0.6408 |`"
      ],
      "metadata": {
        "id": "iEhMwQJn8gN5"
      }
    },
    {
      "cell_type": "code",
      "source": [
        "# Datos\n",
        "datos = [0.5858, 0.8863, 0.8378, 0.3203, 0.4115, 0.2710, 0.9238, 0.1959, 0.9268, 0.6702,\n",
        "         0.6213, 0.4360, 0.6279, 0.8415, 0.5786, 0.0543, 0.3567, 0.1655, 0.3880, 0.8080,\n",
        "         0.1931, 0.0843, 0.9152, 0.6093, 0.7587, 0.4515, 0.3203, 0.5139, 0.7070, 0.9123,\n",
        "         0.1242, 0.8826, 0.9921, 0.8523, 0.6723, 0.8540, 0.4722, 0.4781, 0.2101, 0.1680,\n",
        "         0.8658, 0.4028, 0.6136, 0.8720, 0.1126, 0.5857, 0.9172, 0.8943, 0.8095, 0.6408]\n",
        "\n",
        "# Paso 1: Definir el número de subintervalos\n",
        "m = 2  # Dos subintervalos: [0, 0.5) y [0.5, 1)\n",
        "N = len(datos) - 1  # Número de pares de datos\n",
        "\n",
        "# Paso 2: Crear una matriz para contar las frecuencias observadas\n",
        "O = [[0, 0], [0, 0]]\n",
        "\n",
        "# Paso 3: Contar las frecuencias observadas para los pares de subintervalos\n",
        "for i in range(N):\n",
        "    x = 0 if datos[i] < 0.5 else 1\n",
        "    y = 0 if datos[i + 1] < 0.5 else 1\n",
        "    O[x][y] += 1\n",
        "\n",
        "print(\"\\n=== PRUEBA DE INDEPENDENCIA CHI-CUADRADO ===\")\n",
        "print(\"\\n1. Matriz de Frecuencias Observadas (O):\")\n",
        "print(f\"   [0, 0.5)    [0.5, 1)\")\n",
        "print(f\"[0, 0.5)  {O[0][0]:-9d}  {O[0][1]}\")\n",
        "print(f\"[0.5, 1)  {O[1][0]:-9d}  {O[1][1]}\")\n",
        "\n",
        "# Paso 4: Calcular la frecuencia esperada (E)\n",
        "E = N / (m * m)  # Frecuencia esperada para cada par de subintervalos\n",
        "print(f\"\\n2. Frecuencia esperada (E): {E:.4f}\")\n",
        "\n",
        "# Paso 5: Calcular el estadístico de prueba χ²\n",
        "chi2_stat = 0\n",
        "for i in range(m):\n",
        "    for j in range(m):\n",
        "        chi2_stat += ((O[i][j] - E) ** 2) / E\n",
        "\n",
        "chi2_stat = round(chi2_stat, 4)\n",
        "print(f\"\\n3. Estadístico de prueba χ²: {chi2_stat:.4f}\")\n",
        "\n",
        "# Paso 6: Valor crítico aproximado\n",
        "grados_libertad = m * m - 1\n",
        "chi2_critico = 6.2514  # Valor crítico ajustado para el nivel de confianza del 90% y 3 grados de libertad\n",
        "print(f\"\\n4. Valor crítico χ² (90% confianza): {chi2_critico:.4f}\")\n",
        "print(f\"   Grados de libertad: {grados_libertad}\")\n",
        "\n",
        "# Conclusión de la prueba\n",
        "print(\"\\n=== CONCLUSIÓN ===\")\n",
        "if chi2_stat < chi2_critico:\n",
        "    print(\"No se rechaza H0: Los números son independientes\")\n",
        "    print(f\"({chi2_stat:.4f} < {chi2_critico:.4f})\")\n",
        "else:\n",
        "    print(\"Se rechaza H0: Los números no son independientes\")\n",
        "    print(f\"({chi2_stat:.4f} > {chi2_critico:.4f})\")"
      ],
      "metadata": {
        "id": "PESa3iFrAMOY"
      },
      "execution_count": null,
      "outputs": []
    },
    {
      "cell_type": "markdown",
      "source": [
        "#Punto N°9\n",
        "## Obtenga la media y la varianza de los datos del problema anterior: ¿Son exactamente los mismos para que una distribución uniforme entre cero y uno? ¿A que atribuye esta diferencia?"
      ],
      "metadata": {
        "id": "-XK5mgsZARoh"
      }
    },
    {
      "cell_type": "code",
      "source": [
        "# Datos\n",
        "datos = [0.5858, 0.8863, 0.8378, 0.3203, 0.4115, 0.2710, 0.9238, 0.1959, 0.9268, 0.6702,\n",
        "         0.6213, 0.4360, 0.6279, 0.8415, 0.5786, 0.0543, 0.3567, 0.1655, 0.3880, 0.8080,\n",
        "         0.1931, 0.0843, 0.9152, 0.6093, 0.7587, 0.4515, 0.3203, 0.5139, 0.7070, 0.9123,\n",
        "         0.1242, 0.8826, 0.9921, 0.8523, 0.6723, 0.8540, 0.4722, 0.4781, 0.2101, 0.1680,\n",
        "         0.8658, 0.4028, 0.6136, 0.8720, 0.1126, 0.5857, 0.9172, 0.8943, 0.8095, 0.6408]\n",
        "\n",
        "# Calcular media y varianza\n",
        "media_datos = sum(datos) / len(datos)\n",
        "varianza_datos = sum((x - media_datos) ** 2 for x in datos) / len(datos)\n",
        "\n",
        "# Valores teóricos de U(0,1)\n",
        "media_teorica = 0.5\n",
        "varianza_teorica = 1/12  # ≈ 0.0833\n",
        "\n",
        "print(f\"Datos muestra:\")\n",
        "print(f\"Media: {media_datos:.4f}\")\n",
        "print(f\"Varianza: {varianza_datos:.4f}\")\n",
        "print(f\"\\nDatos teóricos U(0,1):\")\n",
        "print(f\"Media: {media_teorica:.4f}\")\n",
        "print(f\"Varianza: {varianza_teorica:.4f}\")\n",
        "print(\"\\nConclusión:\")\n",
        "print(\"No son exactamente iguales. Esto se debe principalmente al tamaño finito\")\n",
        "print(\"de la muestra (50 datos) y a la naturaleza aleatoria de los números generados.\")"
      ],
      "metadata": {
        "id": "xXvA274oAe-J"
      },
      "execution_count": null,
      "outputs": []
    }
  ]
}