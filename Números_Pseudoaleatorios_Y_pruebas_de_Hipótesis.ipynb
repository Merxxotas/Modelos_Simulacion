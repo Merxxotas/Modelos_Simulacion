{
  "nbformat": 4,
  "nbformat_minor": 0,
  "metadata": {
    "colab": {
      "provenance": [],
      "authorship_tag": "ABX9TyO+gDLu67ef10j3lR5tiqvZ",
      "include_colab_link": true
    },
    "kernelspec": {
      "name": "python3",
      "display_name": "Python 3"
    },
    "language_info": {
      "name": "python"
    }
  },
  "cells": [
    {
      "cell_type": "markdown",
      "metadata": {
        "id": "view-in-github",
        "colab_type": "text"
      },
      "source": [
        "<a href=\"https://colab.research.google.com/github/Merxxotas/Modelos_Simulacion/blob/main/N%C3%BAmeros_Pseudoaleatorios_Y_pruebas_de_Hip%C3%B3tesis.ipynb\" target=\"_parent\"><img src=\"https://colab.research.google.com/assets/colab-badge.svg\" alt=\"Open In Colab\"/></a>"
      ]
    },
    {
      "cell_type": "markdown",
      "source": [
        "# Punto N°1\n",
        "## Detetermine el ciclo o periodo de vida de los siguientes generadores congruenciales"
      ],
      "metadata": {
        "id": "5XDUQFdXpsYC"
      }
    },
    {
      "cell_type": "code",
      "execution_count": null,
      "metadata": {
        "id": "sIarK7s9poO9"
      },
      "outputs": [],
      "source": [
        "def calcular_periodo(a, c, m, x_inicial):\n",
        "    secuencia = []\n",
        "    x = x_inicial\n",
        "    while x not in secuencia:\n",
        "        secuencia.append(x)\n",
        "        x = (a * x + c) % m\n",
        "    return len(secuencia), secuencia\n",
        "\n",
        "# Configuraciones de los generadores\n",
        "configuraciones = [\n",
        "    (21, 15, 31, 21),   # Generador (a)\n",
        "    (13, 9, 128, 7),    # Generador (b)\n",
        "    (17, 0, 31, 23),    # Generador (c)\n",
        "    (1, 121, 256, 17)   # Generador (d)\n",
        "]\n",
        "\n",
        "# Procesar cada generador\n",
        "for indice, (a, c, m, x_inicial) in enumerate(configuraciones, start=1):\n",
        "    periodo, secuencia = calcular_periodo(a, c, m, x_inicial)\n",
        "    print(f\"Generador {chr(96 + indice)}: Periodo = {periodo}, Secuencia = {secuencia}\")"
      ]
    },
    {
      "cell_type": "markdown",
      "source": [
        "# Punto N°2\n",
        "## Detetermine el ciclo o periodo de vida de los siguientes generadores congruenciales"
      ],
      "metadata": {
        "id": "DjlDQ3hep-t8"
      }
    },
    {
      "cell_type": "code",
      "source": [
        "def periodo_de_vida(a: int, c: int, m: int, x0: int, inciso: str):\n",
        "    residuos = []\n",
        "    pseudo_aleatorios = []\n",
        "    xi = x0  # Inicialización con x0\n",
        "\n",
        "    while xi not in residuos:\n",
        "        residuos.append(xi)\n",
        "        ri = xi / (m - 1)\n",
        "        pseudo_aleatorios.append(ri)\n",
        "        xi = ((a * xi) + c) % m\n",
        "\n",
        "    print(f\"Inciso -{inciso}- ciclo de vida: {len(residuos)} iteraciones\")\n",
        "\n",
        "def main():\n",
        "    periodo_de_vida(137, 47, 17, 301, \"A\")  # X0 = 301\n",
        "    periodo_de_vida(191, 17, 23, 23, \"B\")   # X0 = 23\n",
        "    periodo_de_vida(237, 71, 37, 195, \"C\")  # X0 = 195\n",
        "    periodo_de_vida(117, 31, 19, 57, \"D\")   # X0 = 57\n",
        "    periodo_de_vida(157, 47, 37, 99, \"E\")   # X0 = 99\n",
        "    periodo_de_vida(321, 11, 27, 177, \"F\")  # X0 = 177\n",
        "\n",
        "if __name__ == \"__main__\":\n",
        "    main()"
      ],
      "metadata": {
        "id": "Qn9VOBzUp_Hx"
      },
      "execution_count": null,
      "outputs": []
    },
    {
      "cell_type": "markdown",
      "source": [
        "# Punto N°3\n",
        "## Programe en el software de su preferencia la seria congruencial:\n",
        "\n",
        "> Xi+1 = (553+121Xi) mod 177, con X0=23\n",
        "\n",
        "## Y haga lo que se indica:\n",
        "1. Determine el ciclo o periodo de vida\n",
        "2. Realice las pruebas de media, varianza y uniformidad (chi-cuadrado)"
      ],
      "metadata": {
        "id": "I8zbnvZ5qmPc"
      }
    },
    {
      "cell_type": "code",
      "source": [
        "import math\n",
        "\n",
        "def periodo_de_vida(a, c, m, x0):\n",
        "    residuos = []\n",
        "    aleatorios = []\n",
        "\n",
        "    xi = ((a * x0) + c) % m\n",
        "    ri = xi / (m - 1)\n",
        "\n",
        "    while xi not in residuos:\n",
        "        residuos.append(xi)\n",
        "        aleatorios.append(ri)\n",
        "\n",
        "        xi = ((a * xi) + c) % m\n",
        "        ri = xi / (m - 1)\n",
        "\n",
        "    print(f\"Ciclo de vida: {len(residuos)} iteraciones\")\n",
        "    prueba_media(aleatorios, m)\n",
        "\n",
        "    return aleatorios\n",
        "\n",
        "def prueba_media(residuos, m):\n",
        "    media_valor = media(residuos)\n",
        "    acumulador = 0\n",
        "    resta_cuadrado = 0.0\n",
        "    varianza = 0.0\n",
        "\n",
        "    for valor in residuos:\n",
        "        resta_cuadrado = valor - media_valor\n",
        "        resta_cuadrado = resta_cuadrado * resta_cuadrado\n",
        "        acumulador += resta_cuadrado\n",
        "\n",
        "    varianza = acumulador / (len(residuos) - 1)\n",
        "    print(f\"Varianza: {varianza}\")\n",
        "\n",
        "def media(lista):\n",
        "    media_valor = sum(lista) / len(lista)\n",
        "    print(f\"Media: {media_valor}\")\n",
        "    return media_valor\n",
        "\n",
        "def histograma(lista_xi):\n",
        "    menor = float('inf')\n",
        "    mayor = float('-inf')\n",
        "\n",
        "    for valor in lista_xi:\n",
        "        if menor > valor:\n",
        "            menor = valor\n",
        "        if mayor < valor:\n",
        "            mayor = valor\n",
        "\n",
        "    rango = mayor - menor\n",
        "    intervalos = int(math.sqrt(len(lista_xi)))\n",
        "    ancho_intervalo = rango / intervalos\n",
        "\n",
        "    # Creación intervalos\n",
        "    intervalo = [menor + (i * ancho_intervalo) for i in range(intervalos + 1)]\n",
        "\n",
        "    # Cálculo de la frecuencia\n",
        "    frecuencia = [0] * (intervalos + 1)\n",
        "\n",
        "    for i in range(len(intervalo)):\n",
        "        for valor in lista_xi:\n",
        "            if i == 0:\n",
        "                if valor <= intervalo[i]:\n",
        "                    frecuencia[i] += 1\n",
        "            else:\n",
        "                if intervalo[i-1] < valor <= intervalo[i]:\n",
        "                    frecuencia[i] += 1\n",
        "\n",
        "    # Crear histograma como una lista de dos listas\n",
        "    histograma = [frecuencia, intervalo]\n",
        "\n",
        "    return histograma\n",
        "\n",
        "def prueba_chi_cuadrada(histograma, n):\n",
        "    chi_cuadrado = 0.0\n",
        "    k = len(histograma[0]) - 1  # Número de intervalos\n",
        "    fe = n / k  # Frecuencia esperada\n",
        "\n",
        "    for fo in histograma[0]:  # Frecuencia observada\n",
        "        chi_cuadrado += (fo - fe) ** 2 / fe\n",
        "\n",
        "    print(f\"Chi-cuadrado: {chi_cuadrado}\")\n",
        "\n",
        "    # Comparar el valor calculado con el valor crítico\n",
        "    valor_critico = 23.6848  # Valor crítico de chi-cuadrado para k=86 y alpha=0.05\n",
        "\n",
        "    if chi_cuadrado < valor_critico:\n",
        "        print(\"No se rechaza la hipótesis nula, los datos son uniformes.\")\n",
        "    else:\n",
        "        print(\"Se rechaza la hipótesis nula, los datos no son uniformes.\")\n",
        "\n",
        "def main():\n",
        "    lista_xi = periodo_de_vida(121, 553, 177, 23)\n",
        "    histograma_resultado = histograma(lista_xi)\n",
        "    prueba_chi_cuadrada(histograma_resultado, len(lista_xi))\n",
        "\n",
        "if __name__ == \"__main__\":\n",
        "    main()\n"
      ],
      "metadata": {
        "id": "Ub__Lyeeqjki"
      },
      "execution_count": null,
      "outputs": []
    },
    {
      "cell_type": "markdown",
      "source": [
        "# Punto N°4:\n",
        "\n",
        "## Realice las pruebas de uniformidad e independencia a los primeros 100 aleatorios de los siguientes generadores:\n",
        "\n",
        "1. Xi+1 = (1117*Xi+3057) mod 1679567; **semilla** 1457\n",
        "2. Xi+1 = (2177*Xi+2367) mod 1351867; **semilla** 1117"
      ],
      "metadata": {
        "id": "73N-turCqSSc"
      }
    },
    {
      "cell_type": "code",
      "source": [
        "def generador_a(n, semilla):\n",
        "    a, c, m = 1117, 3057, 1679567\n",
        "    X = [0] * n\n",
        "    X[0] = semilla\n",
        "    for i in range(1, n):\n",
        "        X[i] = (a * X[i-1] + c) % m\n",
        "    return [x / m for x in X]\n",
        "\n",
        "def generador_b(n, semilla):\n",
        "    a, c, m = 2177, 2367, 1351867\n",
        "    X = [0] * n\n",
        "    X[0] = semilla\n",
        "    for i in range(1, n):\n",
        "        X[i] = (a * X[i-1] + c) % m\n",
        "    return [x / m for x in X]\n",
        "\n",
        "n = 100\n",
        "semilla_a = 1457\n",
        "semilla_b = 1117\n",
        "\n",
        "numeros_a = generador_a(n, semilla_a)\n",
        "numeros_b = generador_b(n, semilla_b)\n",
        "\n",
        "def kolmogorov_smirnov_prueba(datos):\n",
        "    datos_ordenados = sorted(datos)\n",
        "    n = len(datos)\n",
        "    D_plus = max((i + 1) / n - x for i, x in enumerate(datos_ordenados))\n",
        "    D_minus = max(x - i / n for i, x in enumerate(datos_ordenados))\n",
        "    D = max(D_plus, D_minus)\n",
        "    return D\n",
        "\n",
        "D_a = kolmogorov_smirnov_prueba(numeros_a)\n",
        "D_b = kolmogorov_smirnov_prueba(numeros_b)\n",
        "\n",
        "print(f\"Prueba de uniformidad para el generador a: D = {D_a}\")\n",
        "print(f\"Prueba de uniformidad para el generador b: D = {D_b}\")\n",
        "\n",
        "def autocorrelacion(datos, lag):\n",
        "    n = len(datos)\n",
        "    media = sum(datos) / n\n",
        "    numerador = sum((datos[i] - media) * (datos[i + lag] - media) for i in range(n - lag))\n",
        "    denominador = sum((datos[i] - media) ** 2 for i in range(n))\n",
        "    return numerador / denominador\n",
        "\n",
        "def prueba_autocorrelacion(datos, max_lag=10):\n",
        "    autocorrs = [autocorrelacion(datos, lag) for lag in range(1, max_lag + 1)]\n",
        "    print(f\"Autocorrelaciones: {autocorrs}\")\n",
        "\n",
        "print(\"Prueba de independencia para el generador a:\")\n",
        "prueba_autocorrelacion(numeros_a)\n",
        "\n",
        "print(\"Prueba de independencia para el generador b:\")\n",
        "prueba_autocorrelacion(numeros_b)"
      ],
      "metadata": {
        "id": "5rzHNES0qPOz"
      },
      "execution_count": null,
      "outputs": []
    },
    {
      "cell_type": "markdown",
      "source": [
        "# Punto N°5\n",
        "\n",
        "## para cada uno de los generadores del problema anterior tome ahora los datos de 101 al 200 y realice las pruebas de media, varianza."
      ],
      "metadata": {
        "id": "MMvu5-fGqb-4"
      }
    },
    {
      "cell_type": "code",
      "source": [
        "# Función para generar números pseudoaleatorios con el generador a\n",
        "def generador_a(n, semilla):\n",
        "    a, c, m = 1117, 3057, 1679567\n",
        "    X = [0] * n\n",
        "    X[0] = semilla\n",
        "    for i in range(1, n):\n",
        "        X[i] = (a * X[i-1] + c) % m\n",
        "    return [x / m for x in X]\n",
        "\n",
        "# Función para generar números pseudoaleatorios con el generador b\n",
        "def generador_b(n, semilla):\n",
        "    a, c, m = 2177, 2367, 1351867\n",
        "    X = [0] * n\n",
        "    X[0] = semilla\n",
        "    for i in range(1, n):\n",
        "        X[i] = (a * X[i-1] + c) % m\n",
        "    return [x / m for x in X]\n",
        "\n",
        "# Generar 200 números con cada generador\n",
        "n = 200\n",
        "semilla_a = 1457\n",
        "semilla_b = 1117\n",
        "\n",
        "numeros_a = generador_a(n, semilla_a)\n",
        "numeros_b = generador_b(n, semilla_b)\n",
        "\n",
        "# Tomar los datos del 101 al 200 (índices del 100 al 199 en Python)\n",
        "numeros_a_101_200 = numeros_a[100:200]\n",
        "numeros_b_101_200 = numeros_b[100:200]\n",
        "\n",
        "# Función para calcular la media de un conjunto de datos\n",
        "def prueba_media(datos):\n",
        "    n = len(datos)\n",
        "    media = sum(datos) / n\n",
        "    return media\n",
        "\n",
        "# Calcular la media para los números generados del 101 al 200\n",
        "media_a = prueba_media(numeros_a_101_200)\n",
        "media_b = prueba_media(numeros_b_101_200)\n",
        "\n",
        "print(f\"Media para el generador a: {media_a}\")\n",
        "print(f\"Media para el generador b: {media_b}\")\n",
        "\n",
        "# Función para calcular la varianza de un conjunto de datos\n",
        "def prueba_varianza(datos):\n",
        "    n = len(datos)\n",
        "    media = sum(datos) / n\n",
        "    varianza = sum((x - media) ** 2 for x in datos) / (n - 1)\n",
        "    return varianza\n",
        "\n",
        "# Calcular la varianza para los números generados del 101 al 200\n",
        "varianza_a = prueba_varianza(numeros_a_101_200)\n",
        "varianza_b = prueba_varianza(numeros_b_101_200)\n",
        "\n",
        "print(f\"Varianza para el generador a: {varianza_a}\")\n",
        "print(f\"Varianza para el generador b: {varianza_b}\")"
      ],
      "metadata": {
        "colab": {
          "base_uri": "https://localhost:8080/"
        },
        "id": "8WNPRuN6qWX2",
        "outputId": "b3cf3d61-e048-4644-9a54-4b17ba54063e"
      },
      "execution_count": 1,
      "outputs": [
        {
          "output_type": "stream",
          "name": "stdout",
          "text": [
            "Media para el generador a: 0.5011150195258657\n",
            "Media para el generador b: 0.48044859442533927\n",
            "Varianza para el generador a: 0.08194352882686691\n",
            "Varianza para el generador b: 0.09401610389416853\n"
          ]
        }
      ]
    },
    {
      "cell_type": "markdown",
      "source": [
        "# Punto N°6\n",
        "\n",
        "## Realice las pruebas de media, varianza y uniformidad a los 50 números de la tabla siguiente, con un nivel de aceptación del 95% (0.95)\n",
        "\n",
        "`| 0.8797 | 0.3884 | 0.6289 | 0.8750 | 0.5999 | 0.8589 | 0.9996 | 0.2415 | 0.3808 | 0.9606 | 0.9848 | 0.3469 | 0.7977 | 0.5844 | 0.8147 | 0.6431 | 0.7387 | 0.5613 | 0.0318 | 0.7401 | 0.4557 | 0.1592 | 0.8536 | 0.8846 | 0.3410 | 0.1492 | 0.8681 | 0.5291 | 0.3188 | 0.5992 | 0.9170 | 0.2204 | 0.5991 | 0.5461 | 0.5739 | 0.3254 | 0.0856 | 0.2258 | 0.4603 | 0.5027 | 0.8376 | 0.6235 | 0.3681 | 0.2088 | 0.1525 | 0.2006 | 0.4720 | 0.4272 | 0.6360 | 0.0954 |`"
      ],
      "metadata": {
        "id": "HiOl1ZW-vwDf"
      }
    },
    {
      "cell_type": "code",
      "source": [
        "import math\n",
        "\n",
        "# Los números proporcionados\n",
        "numeros = [\n",
        "    0.8797, 0.3884, 0.6289, 0.8750, 0.5999, 0.8589, 0.9996, 0.2415, 0.3808, 0.9606,\n",
        "    0.9848, 0.3469, 0.7977, 0.5844, 0.8147, 0.6431, 0.7387, 0.5613, 0.0318, 0.7401,\n",
        "    0.4557, 0.1592, 0.8536, 0.8846, 0.3410, 0.1492, 0.8681, 0.5291, 0.3188, 0.5992,\n",
        "    0.9170, 0.2204, 0.5991, 0.5461, 0.5739, 0.3254, 0.0856, 0.2258, 0.4603, 0.5027,\n",
        "    0.8376, 0.6235, 0.3681, 0.2088, 0.1525, 0.2006, 0.4720, 0.4272, 0.6360, 0.0954\n",
        "]\n",
        "\n",
        "n = len(numeros)\n",
        "nivel_confianza = 0.95\n",
        "\n",
        "def calcular_media(lista):\n",
        "    return sum(lista) / len(lista)\n",
        "\n",
        "def calcular_varianza(lista):\n",
        "    media = calcular_media(lista)\n",
        "    return sum((x - media) ** 2 for x in lista) / (len(lista) - 1)\n",
        "\n",
        "def calcular_desviacion_estandar(lista):\n",
        "    return calcular_varianza(lista) ** 0.5\n",
        "\n",
        "# Función de la distribución normal acumulada usando la función de error\n",
        "def phi(x):\n",
        "    return (1 + math.erf(x / math.sqrt(2))) / 2\n",
        "\n",
        "# Prueba de la media\n",
        "media_muestral = calcular_media(numeros)\n",
        "media_esperada = 0.5\n",
        "desviacion_estandar = calcular_desviacion_estandar(numeros)\n",
        "z_score = (media_muestral - media_esperada) / (desviacion_estandar / (n ** 0.5))\n",
        "p_valor_media = 2 * (1 - phi(abs(z_score)))\n",
        "\n",
        "print(f\"Prueba de la media: z = {z_score:.4f}, p-valor = {p_valor_media:.4f}\")\n",
        "\n",
        "# Prueba de la varianza\n",
        "varianza_muestral = calcular_varianza(numeros)\n",
        "varianza_esperada = 1 / 12\n",
        "chi2_stat = (n - 1) * varianza_muestral / varianza_esperada\n",
        "\n",
        "def chi2_cdf(x, k):\n",
        "    # Mejor aproximación de la función de distribución acumulada chi-cuadrado\n",
        "    return gammainc(k / 2, x / 2)\n",
        "\n",
        "def gammainc(a, x):\n",
        "    # Función gamma incompleta\n",
        "    def gser(a, x):\n",
        "        gln = math.lgamma(a)\n",
        "        ap = a\n",
        "        sum = 1.0 / a\n",
        "        del_ = sum\n",
        "        for n in range(1, 100):\n",
        "            ap += 1\n",
        "            del_ *= x / ap\n",
        "            sum += del_\n",
        "            if abs(del_) < abs(sum) * 1e-7:\n",
        "                break\n",
        "        return sum * math.exp(-x + a * math.log(x) - gln)\n",
        "\n",
        "    def gcf(a, x):\n",
        "        gln = math.lgamma(a)\n",
        "        b = x + 1 - a\n",
        "        c = 1.0 / 1e-30\n",
        "        d = 1.0 / b\n",
        "        h = d\n",
        "        for i in range(1, 100):\n",
        "            an = -i * (i - a)\n",
        "            b += 2\n",
        "            d = an * d + b\n",
        "            if abs(d) < 1e-30:\n",
        "                d = 1e-30\n",
        "            c = b + an / c\n",
        "            if abs(c) < 1e-30:\n",
        "                c = 1e-30\n",
        "            d = 1.0 / d\n",
        "            del_ = d * c\n",
        "            h *= del_\n",
        "            if abs(del_ - 1.0) < 1e-7:\n",
        "                break\n",
        "        return math.exp(-x + a * math.log(x) - gln) * h\n",
        "\n",
        "    if x < 0 or a <= 0:\n",
        "        return 0.0\n",
        "    if x < a + 1:\n",
        "        return gser(a, x)\n",
        "    else:\n",
        "        return 1 - gcf(a, x)\n",
        "\n",
        "p_valor_varianza = 1 - chi2_cdf(chi2_stat, n - 1)\n",
        "\n",
        "print(f\"Prueba de la varianza: chi-cuadrado = {chi2_stat:.4f}, p-valor = {p_valor_varianza:.4f}\")\n",
        "\n",
        "# Prueba de uniformidad (chi-cuadrado)\n",
        "intervalos = 10\n",
        "observados = [0] * intervalos\n",
        "for num in numeros:\n",
        "    observados[int(num * intervalos)] += 1\n",
        "esperados = [n / intervalos] * intervalos\n",
        "chi2_uniformidad = sum((observados[i] - esperados[i]) ** 2 / esperados[i] for i in range(intervalos))\n",
        "p_valor_uniformidad = 1 - chi2_cdf(chi2_uniformidad, intervalos - 1)\n",
        "\n",
        "print(f\"Prueba de uniformidad: chi-cuadrado = {chi2_uniformidad:.4f}, p-valor = {p_valor_uniformidad:.4f}\")\n"
      ],
      "metadata": {
        "colab": {
          "base_uri": "https://localhost:8080/"
        },
        "id": "yCZ4cdcHvy6V",
        "outputId": "6c27ae87-8981-4dda-e912-5265b9b6d667"
      },
      "execution_count": 2,
      "outputs": [
        {
          "output_type": "stream",
          "name": "stdout",
          "text": [
            "Prueba de la media: z = 0.8778, p-valor = 0.3800\n",
            "Prueba de la varianza: chi-cuadrado = 43.7567, p-valor = 0.6850\n",
            "Prueba de uniformidad: chi-cuadrado = 8.8000, p-valor = 0.4559\n"
          ]
        }
      ]
    },
    {
      "cell_type": "markdown",
      "source": [
        "# Punto N°7 con librerías\n",
        "\n",
        "## Determine con las pruebas de indepencia de corribas arriba y abajo de la media, si los 50 números de la tabla son independientes con un nivel de aceptación del 90% (0.90)\n",
        "\n",
        "`| 0.6351 | 0.0272 | 0.0227 | 0.3827 | 0.0659 | 0.3683 | 0.2270 | 0.7323 | 0.4088 | 0.2139 | 0.4271 | 0.4855 | 0.2028 | 0.1618 | 0.5336 | 0.7378 | 0.3670 | 0.6637 | 0.1864 | 0.6734 | 0.9498 | 0.9323 | 0.0265 | 0.4696 | 0.7730 | 0.9670 | 0.7500 | 0.5259 | 0.5269 | 0.5406 | 0.3641 | 0.0356 | 0.2181 | 0.0866 | 0.6085 | 0.4468 | 0.0539 | 0.9311 | 0.3128 | 0.1562 | 0.8559 | 0.7280 | 0.7789 | 0.1746 | 0.6637 | 0.0687 | 0.5494 | 0.1504 | 0.8397 | 0.2995 |`"
      ],
      "metadata": {
        "id": "cufRtjLU1-3b"
      }
    },
    {
      "cell_type": "code",
      "source": [
        "import numpy as np\n",
        "from scipy.stats import norm\n",
        "\n",
        "# Definir los datos y la media de referencia\n",
        "datos = [0.6351, 0.0272, 0.0227, 0.3827, 0.0659, 0.3683, 0.2270, 0.7323, 0.4088, 0.2139,\n",
        "         0.4271, 0.4855, 0.2028, 0.1618, 0.5336, 0.7378, 0.3670, 0.6637, 0.1864, 0.6734,\n",
        "         0.9498, 0.9323, 0.0265, 0.4696, 0.7730, 0.9670, 0.7500, 0.5259, 0.5269, 0.5406,\n",
        "         0.3641, 0.0356, 0.2181, 0.0866, 0.6085, 0.4468, 0.0539, 0.9311, 0.3128, 0.1562,\n",
        "         0.8559, 0.7280, 0.7789, 0.1746, 0.6637, 0.0687, 0.5494, 0.1504, 0.8397, 0.2995]\n",
        "media_referencia = 0.5\n",
        "\n",
        "# Paso 1: Construir la sucesión S (1 si el número está arriba de la media, 0 si está abajo)\n",
        "S = [1 if num > media_referencia else 0 for num in datos]\n",
        "print(f\"Secuencia S (arriba de la media = 1, abajo de la media = 0):\\n{S}\")\n",
        "\n",
        "# Paso 2: Contar las corridas (Co)\n",
        "Co = 1  # Empezamos con la primera corrida\n",
        "for i in range(1, len(S)):\n",
        "    if S[i] != S[i-1]:\n",
        "        Co += 1\n",
        "print(f\"Número de corridas (Co): {Co}\")\n",
        "\n",
        "# Paso 3 y 4: Contar el número de 0's y 1's en S\n",
        "N0 = S.count(0)\n",
        "N1 = S.count(1)\n",
        "N = len(S)\n",
        "print(f\"Número de 0's en S (N0): {N0}\")\n",
        "print(f\"Número de 1's en S (N1): {N1}\")\n",
        "\n",
        "# Paso 5: Calcular la media (UCo), varianza (θ^2Co), desviación estándar (θCo) y estadístico Z0\n",
        "UCo = round((2 * N0 * N1) / N + 0.5, 4)\n",
        "varianza_Co = round((2 * N0 * N1 * (2 * N0 * N1 - N)) / (N ** 2 * (N - 1)), 4)\n",
        "desviacion_estandar_Co = round(np.sqrt(varianza_Co), 4)\n",
        "Z0 = round((Co - UCo) / desviacion_estandar_Co, 4)\n",
        "\n",
        "print(f\"Media de Co (UCo): {UCo}\")\n",
        "print(f\"Varianza de Co (θ^2Co): {varianza_Co}\")\n",
        "print(f\"Desviación estándar de Co (θCo): {desviacion_estandar_Co}\")\n",
        "print(f\"Estadístico Z0: {Z0}\")\n",
        "\n",
        "# Paso 6: Calcular el nivel de confianza más alto (α) tal que no rechacemos H0\n",
        "alpha_max = round(2 * (1 - norm.cdf(abs(Z0))), 4)  # Calcular el valor de α para el cual Z0 es el límite\n",
        "nivel_confianza_max = round(1 - alpha_max, 4)\n",
        "print(f\"Nivel de confianza máximo para no rechazar H0 (1 - α): {nivel_confianza_max}\")\n",
        "\n",
        "# Paso 7: Determinar si rechazamos H0 o no con el nivel de aceptación del 90%\n",
        "nivel_aceptacion = 0.90\n",
        "alpha = 1 - nivel_aceptacion\n",
        "valor_critico = round(norm.ppf(1 - alpha / 2), 4)\n",
        "print(f\"Valor crítico Zα/2 para α={alpha}: ±{valor_critico}\")\n",
        "\n",
        "# Conclusión de la prueba\n",
        "if -valor_critico <= Z0 <= valor_critico:\n",
        "    print(\"Conclusión: No se rechaza H0. Los números son independientes.\")\n",
        "else:\n",
        "    print(\"Conclusión: Se rechaza H0. Los números no son independientes.\")\n"
      ],
      "metadata": {
        "colab": {
          "base_uri": "https://localhost:8080/"
        },
        "id": "LgdXCcZU2P0g",
        "outputId": "66f1fb18-37c4-492f-c793-0e119e775fff"
      },
      "execution_count": 4,
      "outputs": [
        {
          "output_type": "stream",
          "name": "stdout",
          "text": [
            "Secuencia S (arriba de la media = 1, abajo de la media = 0):\n",
            "[1, 0, 0, 0, 0, 0, 0, 1, 0, 0, 0, 0, 0, 0, 1, 1, 0, 1, 0, 1, 1, 1, 0, 0, 1, 1, 1, 1, 1, 1, 0, 0, 0, 0, 1, 0, 0, 1, 0, 0, 1, 1, 1, 0, 1, 0, 1, 0, 1, 0]\n",
            "Número de corridas (Co): 24\n",
            "Número de 0's en S (N0): 28\n",
            "Número de 1's en S (N1): 22\n",
            "Media de Co (UCo): 25.14\n",
            "Varianza de Co (θ^2Co): 11.8875\n",
            "Desviación estándar de Co (θCo): 3.4478\n",
            "Estadístico Z0: -0.3306\n",
            "Nivel de confianza máximo para no rechazar H0 (1 - α): 0.2591\n",
            "Valor crítico Zα/2 para α=0.09999999999999998: ±1.6449\n",
            "Conclusión: No se rechaza H0. Los números son independientes.\n"
          ]
        }
      ]
    },
    {
      "cell_type": "markdown",
      "source": [
        "# Punto N°7 SIN librerías\n",
        "\n",
        "## Determine con las pruebas de indepencia de corribas arriba y abajo de la media, si los 50 números de la tabla son independientes con un nivel de aceptación del 90% (0.90)\n",
        "\n",
        "`| 0.6351 | 0.0272 | 0.0227 | 0.3827 | 0.0659 | 0.3683 | 0.2270 | 0.7323 | 0.4088 | 0.2139 | 0.4271 | 0.4855 | 0.2028 | 0.1618 | 0.5336 | 0.7378 | 0.3670 | 0.6637 | 0.1864 | 0.6734 | 0.9498 | 0.9323 | 0.0265 | 0.4696 | 0.7730 | 0.9670 | 0.7500 | 0.5259 | 0.5269 | 0.5406 | 0.3641 | 0.0356 | 0.2181 | 0.0866 | 0.6085 | 0.4468 | 0.0539 | 0.9311 | 0.3128 | 0.1562 | 0.8559 | 0.7280 | 0.7789 | 0.1746 | 0.6637 | 0.0687 | 0.5494 | 0.1504 | 0.8397 | 0.2995 |`"
      ],
      "metadata": {
        "id": "tjOwCXdg2TG7"
      }
    },
    {
      "cell_type": "code",
      "source": [
        "# Definir los datos y la media de referencia\n",
        "datos = [0.6351, 0.0272, 0.0227, 0.3827, 0.0659, 0.3683, 0.2270, 0.7323, 0.4088, 0.2139,\n",
        "         0.4271, 0.4855, 0.2028, 0.1618, 0.5336, 0.7378, 0.3670, 0.6637, 0.1864, 0.6734,\n",
        "         0.9498, 0.9323, 0.0265, 0.4696, 0.7730, 0.9670, 0.7500, 0.5259, 0.5269, 0.5406,\n",
        "         0.3641, 0.0356, 0.2181, 0.0866, 0.6085, 0.4468, 0.0539, 0.9311, 0.3128, 0.1562,\n",
        "         0.8559, 0.7280, 0.7789, 0.1746, 0.6637, 0.0687, 0.5494, 0.1504, 0.8397, 0.2995]\n",
        "media_referencia = 0.5\n",
        "\n",
        "# Paso 1: Construir la sucesión S (1 si el número está arriba de la media, 0 si está abajo)\n",
        "S = [1 if num > media_referencia else 0 for num in datos]\n",
        "print(f\"Secuencia S (arriba de la media = 1, abajo de la media = 0):\\n{S}\")\n",
        "\n",
        "# Paso 2: Contar las corridas (Co)\n",
        "Co = 1  # Empezamos con la primera corrida\n",
        "for i in range(1, len(S)):\n",
        "    if S[i] != S[i-1]:\n",
        "        Co += 1\n",
        "print(f\"Número de corridas (Co): {Co}\")\n",
        "\n",
        "# Paso 3 y 4: Contar el número de 0's y 1's en S\n",
        "N0 = S.count(0)\n",
        "N1 = S.count(1)\n",
        "N = len(S)\n",
        "print(f\"Número de 0's en S (N0): {N0}\")\n",
        "print(f\"Número de 1's en S (N1): {N1}\")\n",
        "\n",
        "# Paso 5: Calcular la media (UCo), varianza (θ^2Co), desviación estándar (θCo) y estadístico Z0\n",
        "UCo = round((2 * N0 * N1) / N + 0.5, 4)\n",
        "varianza_Co = round((2 * N0 * N1 * (2 * N0 * N1 - N)) / (N ** 2 * (N - 1)), 4)\n",
        "desviacion_estandar_Co = round(varianza_Co ** 0.5, 4)\n",
        "Z0 = round((Co - UCo) / desviacion_estandar_Co, 4)\n",
        "\n",
        "print(f\"Media de Co (UCo): {UCo}\")\n",
        "print(f\"Varianza de Co (θ^2Co): {varianza_Co}\")\n",
        "print(f\"Desviación estándar de Co (θCo): {desviacion_estandar_Co}\")\n",
        "print(f\"Estadístico Z0: {Z0}\")\n",
        "\n",
        "# Paso 6: Calcular el nivel de confianza más alto (α) tal que no rechacemos H0\n",
        "# Cálculo aproximado de α usando la función de distribución normal\n",
        "# Usamos una tabla estándar de Z o el valor aproximado Zα/2 = 1.6449 para el 90% de confianza\n",
        "def normal_cdf(z):\n",
        "    # Usamos una aproximación de la función acumulativa normal para calcular el nivel de confianza\n",
        "    t = 1 / (1 + 0.2316419 * abs(z))\n",
        "    d = 0.3989423 * (2.718281828 ** (-z * z / 2))\n",
        "    prob = d * (0.319381530 * t + -0.356563782 * (t ** 2) + 1.781477937 * (t ** 3) +\n",
        "                -1.821255978 * (t ** 4) + 1.330274429 * (t ** 5))\n",
        "    return 1 - prob if z > 0 else prob\n",
        "\n",
        "alpha_max = round(2 * (1 - normal_cdf(abs(Z0))), 4)\n",
        "nivel_confianza_max = round(1 - alpha_max, 4)\n",
        "print(f\"Nivel de confianza máximo para no rechazar H0 (1 - α): {nivel_confianza_max}\")\n",
        "\n",
        "# Paso 7: Determinar si rechazamos H0 o no con el nivel de aceptación del 90%\n",
        "nivel_aceptacion = 0.90\n",
        "alpha = 1 - nivel_aceptacion\n",
        "valor_critico = 1.6449  # Valor Zα/2 aproximado para un 90% de nivel de confianza\n",
        "print(f\"Valor crítico Zα/2 para α={alpha}: ±{valor_critico}\")\n",
        "\n",
        "# Conclusión de la prueba\n",
        "if -valor_critico <= Z0 <= valor_critico:\n",
        "    print(\"Conclusión: No se rechaza H0. Los números son independientes.\")\n",
        "else:\n",
        "    print(\"Conclusión: Se rechaza H0. Los números no son independientes.\")\n"
      ],
      "metadata": {
        "colab": {
          "base_uri": "https://localhost:8080/"
        },
        "id": "ut5Y4HDK2Vm7",
        "outputId": "ed8e5ddc-6728-4ee2-d1ee-fb0f8dd9f921"
      },
      "execution_count": 5,
      "outputs": [
        {
          "output_type": "stream",
          "name": "stdout",
          "text": [
            "Secuencia S (arriba de la media = 1, abajo de la media = 0):\n",
            "[1, 0, 0, 0, 0, 0, 0, 1, 0, 0, 0, 0, 0, 0, 1, 1, 0, 1, 0, 1, 1, 1, 0, 0, 1, 1, 1, 1, 1, 1, 0, 0, 0, 0, 1, 0, 0, 1, 0, 0, 1, 1, 1, 0, 1, 0, 1, 0, 1, 0]\n",
            "Número de corridas (Co): 24\n",
            "Número de 0's en S (N0): 28\n",
            "Número de 1's en S (N1): 22\n",
            "Media de Co (UCo): 25.14\n",
            "Varianza de Co (θ^2Co): 11.8875\n",
            "Desviación estándar de Co (θCo): 3.4478\n",
            "Estadístico Z0: -0.3306\n",
            "Nivel de confianza máximo para no rechazar H0 (1 - α): 0.2591\n",
            "Valor crítico Zα/2 para α=0.09999999999999998: ±1.6449\n",
            "Conclusión: No se rechaza H0. Los números son independientes.\n"
          ]
        }
      ]
    },
    {
      "cell_type": "markdown",
      "source": [
        "# Punto N°8 librerías\n",
        "\n",
        "## Determine con la prueba de series para determinar si los 50 numeros de la tabla son independientes con un nivel de aceptación del 90% (0.90)\n",
        "\n",
        "`|0.5858 | 0.8863 | 0.8378 | 0.3203 | 0.4115 | 0.2710 | 0.9238 | 0.1959 | 0.9268 | 0.6702 | 0.6213 | 0.4360 | 0.6279 | 0.8415 | 0.5786 | 0.0543 | 0.3567 | 0.1655 | 0.3880 | 0.8080 | 0.1931 | 0.0843 | 0.9152 | 0.6093 | 0.7587 | 0.4515 | 0.3203 | 0.5139 | 0.7070 | 0.9123 | 0.1242 | 0.8826 | 0.9921 | 0.8523 | 0.6723 | 0.8540 | 0.4722 | 0.4781 | 0.2101 | 0.1680 | 0.8658 | 0.4028 | 0.6136 | 0.8720 | 0.1126 | 0.5857 | 0.9172 | 0.8943 | 0.8095 | 0.6408 |`"
      ],
      "metadata": {
        "id": "wMjpsGjA7jmZ"
      }
    },
    {
      "cell_type": "code",
      "source": [
        "import numpy as np\n",
        "from scipy.stats import chi2\n",
        "\n",
        "# Datos\n",
        "datos = [0.5858, 0.8863, 0.8378, 0.3203, 0.4115, 0.2710, 0.9238, 0.1959, 0.9268, 0.6702,\n",
        "         0.6213, 0.4360, 0.6279, 0.8415, 0.5786, 0.0543, 0.3567, 0.1655, 0.3880, 0.8080,\n",
        "         0.1931, 0.0843, 0.9152, 0.6093, 0.7587, 0.4515, 0.3203, 0.5139, 0.7070, 0.9123,\n",
        "         0.1242, 0.8826, 0.9921, 0.8523, 0.6723, 0.8540, 0.4722, 0.4781, 0.2101, 0.1680,\n",
        "         0.8658, 0.4028, 0.6136, 0.8720, 0.1126, 0.5857, 0.9172, 0.8943, 0.8095, 0.6408]\n",
        "\n",
        "# Paso 1: Definir el número de subintervalos\n",
        "m = 2  # Dos subintervalos: [0, 0.5) y [0.5, 1)\n",
        "N = len(datos) - 1  # Número de pares de datos\n",
        "\n",
        "# Paso 2: Crear una matriz para contar las frecuencias observadas\n",
        "O = np.zeros((m, m))\n",
        "\n",
        "# Paso 3: Contar las frecuencias observadas para los pares de subintervalos\n",
        "for i in range(N):\n",
        "    x = 0 if datos[i] < 0.5 else 1\n",
        "    y = 0 if datos[i + 1] < 0.5 else 1\n",
        "    O[x][y] += 1\n",
        "\n",
        "print(\"\\n=== PRUEBA DE INDEPENDENCIA CHI-CUADRADO ===\")\n",
        "print(\"\\n1. Matriz de Frecuencias Observadas (O):\")\n",
        "print(f\"   [0, 0.5)    [0.5, 1)\")\n",
        "print(f\"[0, 0.5)  {O[0][0]:.0f}          {O[0][1]:.0f}\")\n",
        "print(f\"[0.5, 1)  {O[1][0]:.0f}          {O[1][1]:.0f}\")\n",
        "\n",
        "# Paso 4: Calcular la frecuencia esperada (E)\n",
        "E = N / (m * m)  # Frecuencia esperada para cada par de subintervalos\n",
        "print(f\"\\n2. Frecuencia esperada (E): {E:.4f}\")\n",
        "\n",
        "# Paso 5: Calcular el estadístico de prueba χ²\n",
        "chi2_stat = np.sum((O - E) ** 2 / E)\n",
        "print(f\"\\n3. Estadístico de prueba χ²: {chi2_stat:.4f}\")\n",
        "\n",
        "# Paso 6: Determinar el valor crítico de χ² para m² - 1 grados de libertad y un nivel de significancia de 0.10\n",
        "grados_libertad = m * m - 1\n",
        "chi2_critico = chi2.ppf(0.90, grados_libertad)\n",
        "print(f\"\\n4. Valor crítico χ² (90% confianza): {chi2_critico:.4f}\")\n",
        "print(f\"   Grados de libertad: {grados_libertad}\")\n",
        "\n",
        "# Conclusión de la prueba\n",
        "print(\"\\n=== CONCLUSIÓN ===\")\n",
        "if chi2_stat < chi2_critico:\n",
        "    print(\"No se rechaza H0: Los números son independientes\")\n",
        "    print(f\"({chi2_stat:.4f} < {chi2_critico:.4f})\")\n",
        "else:\n",
        "    print(\"Se rechaza H0: Los números no son independientes\")\n",
        "    print(f\"({chi2_stat:.4f} > {chi2_critico:.4f})\")"
      ],
      "metadata": {
        "colab": {
          "base_uri": "https://localhost:8080/"
        },
        "id": "-3WmcWYx7mU3",
        "outputId": "cf00ab7d-6aa0-48d3-ed21-025ebe18bffa"
      },
      "execution_count": 11,
      "outputs": [
        {
          "output_type": "stream",
          "name": "stdout",
          "text": [
            "\n",
            "=== PRUEBA DE INDEPENDENCIA CHI-CUADRADO ===\n",
            "\n",
            "1. Matriz de Frecuencias Observadas (O):\n",
            "   [0, 0.5)    [0.5, 1)\n",
            "[0, 0.5)  10          10\n",
            "[0.5, 1)  10          19\n",
            "\n",
            "2. Frecuencia esperada (E): 12.2500\n",
            "\n",
            "3. Estadístico de prueba χ²: 4.9592\n",
            "\n",
            "4. Valor crítico χ² (90% confianza): 6.2514\n",
            "   Grados de libertad: 3\n",
            "\n",
            "=== CONCLUSIÓN ===\n",
            "No se rechaza H0: Los números son independientes\n",
            "(4.9592 < 6.2514)\n"
          ]
        }
      ]
    },
    {
      "cell_type": "markdown",
      "source": [
        "# Punto N°8 SIN librerías\n",
        "\n",
        "## Determine con la prueba de series para determinar si los 50 numeros de la tabla son independientes con un nivel de aceptación del 90% (0.90)\n",
        "\n",
        "`|0.5858 | 0.8863 | 0.8378 | 0.3203 | 0.4115 | 0.2710 | 0.9238 | 0.1959 | 0.9268 | 0.6702 | 0.6213 | 0.4360 | 0.6279 | 0.8415 | 0.5786 | 0.0543 | 0.3567 | 0.1655 | 0.3880 | 0.8080 | 0.1931 | 0.0843 | 0.9152 | 0.6093 | 0.7587 | 0.4515 | 0.3203 | 0.5139 | 0.7070 | 0.9123 | 0.1242 | 0.8826 | 0.9921 | 0.8523 | 0.6723 | 0.8540 | 0.4722 | 0.4781 | 0.2101 | 0.1680 | 0.8658 | 0.4028 | 0.6136 | 0.8720 | 0.1126 | 0.5857 | 0.9172 | 0.8943 | 0.8095 | 0.6408 |`"
      ],
      "metadata": {
        "id": "iEhMwQJn8gN5"
      }
    },
    {
      "cell_type": "code",
      "source": [
        "# Datos\n",
        "datos = [0.5858, 0.8863, 0.8378, 0.3203, 0.4115, 0.2710, 0.9238, 0.1959, 0.9268, 0.6702,\n",
        "         0.6213, 0.4360, 0.6279, 0.8415, 0.5786, 0.0543, 0.3567, 0.1655, 0.3880, 0.8080,\n",
        "         0.1931, 0.0843, 0.9152, 0.6093, 0.7587, 0.4515, 0.3203, 0.5139, 0.7070, 0.9123,\n",
        "         0.1242, 0.8826, 0.9921, 0.8523, 0.6723, 0.8540, 0.4722, 0.4781, 0.2101, 0.1680,\n",
        "         0.8658, 0.4028, 0.6136, 0.8720, 0.1126, 0.5857, 0.9172, 0.8943, 0.8095, 0.6408]\n",
        "\n",
        "# Paso 1: Definir el número de subintervalos\n",
        "m = 2  # Dos subintervalos: [0, 0.5) y [0.5, 1)\n",
        "N = len(datos) - 1  # Número de pares de datos\n",
        "\n",
        "# Paso 2: Crear una matriz para contar las frecuencias observadas\n",
        "O = [[0, 0], [0, 0]]\n",
        "\n",
        "# Paso 3: Contar las frecuencias observadas para los pares de subintervalos\n",
        "for i in range(N):\n",
        "    x = 0 if datos[i] < 0.5 else 1\n",
        "    y = 0 if datos[i + 1] < 0.5 else 1\n",
        "    O[x][y] += 1\n",
        "\n",
        "print(\"\\n=== PRUEBA DE INDEPENDENCIA CHI-CUADRADO ===\")\n",
        "print(\"\\n1. Matriz de Frecuencias Observadas (O):\")\n",
        "print(f\"   [0, 0.5)    [0.5, 1)\")\n",
        "print(f\"[0, 0.5)  {O[0][0]:-9d}  {O[0][1]}\")\n",
        "print(f\"[0.5, 1)  {O[1][0]:-9d}  {O[1][1]}\")\n",
        "\n",
        "# Paso 4: Calcular la frecuencia esperada (E)\n",
        "E = N / (m * m)  # Frecuencia esperada para cada par de subintervalos\n",
        "print(f\"\\n2. Frecuencia esperada (E): {E:.4f}\")\n",
        "\n",
        "# Paso 5: Calcular el estadístico de prueba χ²\n",
        "chi2_stat = 0\n",
        "for i in range(m):\n",
        "    for j in range(m):\n",
        "        chi2_stat += ((O[i][j] - E) ** 2) / E\n",
        "\n",
        "chi2_stat = round(chi2_stat, 4)\n",
        "print(f\"\\n3. Estadístico de prueba χ²: {chi2_stat:.4f}\")\n",
        "\n",
        "# Paso 6: Valor crítico aproximado\n",
        "grados_libertad = m * m - 1\n",
        "chi2_critico = 6.2514  # Valor crítico ajustado para el nivel de confianza del 90% y 3 grados de libertad\n",
        "print(f\"\\n4. Valor crítico χ² (90% confianza): {chi2_critico:.4f}\")\n",
        "print(f\"   Grados de libertad: {grados_libertad}\")\n",
        "\n",
        "# Conclusión de la prueba\n",
        "print(\"\\n=== CONCLUSIÓN ===\")\n",
        "if chi2_stat < chi2_critico:\n",
        "    print(\"No se rechaza H0: Los números son independientes\")\n",
        "    print(f\"({chi2_stat:.4f} < {chi2_critico:.4f})\")\n",
        "else:\n",
        "    print(\"Se rechaza H0: Los números no son independientes\")\n",
        "    print(f\"({chi2_stat:.4f} > {chi2_critico:.4f})\")"
      ],
      "metadata": {
        "colab": {
          "base_uri": "https://localhost:8080/"
        },
        "id": "KI1tfu-k8iOG",
        "outputId": "c98c3220-8147-46c9-9b42-934b3f1168a9"
      },
      "execution_count": 14,
      "outputs": [
        {
          "output_type": "stream",
          "name": "stdout",
          "text": [
            "\n",
            "=== PRUEBA DE INDEPENDENCIA CHI-CUADRADO ===\n",
            "\n",
            "1. Matriz de Frecuencias Observadas (O):\n",
            "   [0, 0.5)    [0.5, 1)\n",
            "[0, 0.5)         10  10\n",
            "[0.5, 1)         10  19\n",
            "\n",
            "2. Frecuencia esperada (E): 12.2500\n",
            "\n",
            "3. Estadístico de prueba χ²: 4.9592\n",
            "\n",
            "4. Valor crítico χ² (90% confianza): 6.2514\n",
            "   Grados de libertad: 3\n",
            "\n",
            "=== CONCLUSIÓN ===\n",
            "No se rechaza H0: Los números son independientes\n",
            "(4.9592 < 6.2514)\n"
          ]
        }
      ]
    },
    {
      "cell_type": "markdown",
      "source": [
        "#Punto N°9\n",
        "## Obtenga la media y la varianza de los datos del problema anterior: ¿Son exactamente los mismos para que una distribución uniforme entre cero y uno? ¿A que atribuye esta diferencia?"
      ],
      "metadata": {
        "id": "-XK5mgsZARoh"
      }
    },
    {
      "cell_type": "code",
      "source": [
        "# Datos\n",
        "datos = [0.5858, 0.8863, 0.8378, 0.3203, 0.4115, 0.2710, 0.9238, 0.1959, 0.9268, 0.6702,\n",
        "         0.6213, 0.4360, 0.6279, 0.8415, 0.5786, 0.0543, 0.3567, 0.1655, 0.3880, 0.8080,\n",
        "         0.1931, 0.0843, 0.9152, 0.6093, 0.7587, 0.4515, 0.3203, 0.5139, 0.7070, 0.9123,\n",
        "         0.1242, 0.8826, 0.9921, 0.8523, 0.6723, 0.8540, 0.4722, 0.4781, 0.2101, 0.1680,\n",
        "         0.8658, 0.4028, 0.6136, 0.8720, 0.1126, 0.5857, 0.9172, 0.8943, 0.8095, 0.6408]\n",
        "\n",
        "# Calcular media y varianza\n",
        "media_datos = sum(datos) / len(datos)\n",
        "varianza_datos = sum((x - media_datos) ** 2 for x in datos) / len(datos)\n",
        "\n",
        "# Valores teóricos de U(0,1)\n",
        "media_teorica = 0.5\n",
        "varianza_teorica = 1/12  # ≈ 0.0833\n",
        "\n",
        "print(f\"Datos muestra:\")\n",
        "print(f\"Media: {media_datos:.4f}\")\n",
        "print(f\"Varianza: {varianza_datos:.4f}\")\n",
        "print(f\"\\nDatos teóricos U(0,1):\")\n",
        "print(f\"Media: {media_teorica:.4f}\")\n",
        "print(f\"Varianza: {varianza_teorica:.4f}\")\n",
        "print(\"\\nConclusión:\")\n",
        "print(\"No son exactamente iguales. Esto se debe principalmente al tamaño finito\")\n",
        "print(\"de la muestra (50 datos) y a la naturaleza aleatoria de los números generados.\")"
      ],
      "metadata": {
        "colab": {
          "base_uri": "https://localhost:8080/"
        },
        "id": "IPBAXURg_ThO",
        "outputId": "176650ef-59d3-4327-8624-3bdc13f72f8b"
      },
      "execution_count": 20,
      "outputs": [
        {
          "output_type": "stream",
          "name": "stdout",
          "text": [
            "Datos muestra:\n",
            "Media: 0.5759\n",
            "Varianza: 0.0765\n",
            "\n",
            "Datos teóricos U(0,1):\n",
            "Media: 0.5000\n",
            "Varianza: 0.0833\n",
            "\n",
            "Conclusión:\n",
            "No son exactamente iguales. Esto se debe principalmente al tamaño finito\n",
            "de la muestra (50 datos) y a la naturaleza aleatoria de los números generados.\n"
          ]
        }
      ]
    }
  ]
}