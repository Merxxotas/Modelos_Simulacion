{
  "nbformat": 4,
  "nbformat_minor": 0,
  "metadata": {
    "colab": {
      "provenance": [],
      "authorship_tag": "ABX9TyMIgYBH10L8Vtj6MZXoWrYG",
      "include_colab_link": true
    },
    "kernelspec": {
      "name": "python3",
      "display_name": "Python 3"
    },
    "language_info": {
      "name": "python"
    }
  },
  "cells": [
    {
      "cell_type": "markdown",
      "metadata": {
        "id": "view-in-github",
        "colab_type": "text"
      },
      "source": [
        "<a href=\"https://colab.research.google.com/github/Merxxotas/Modelos_Simulacion/blob/main/Taller_Simulaci%C3%B3n_de_MonteCarlo.ipynb\" target=\"_parent\"><img src=\"https://colab.research.google.com/assets/colab-badge.svg\" alt=\"Open In Colab\"/></a>"
      ]
    },
    {
      "cell_type": "markdown",
      "source": [
        "# Taller Simulación de Montecarlo"
      ],
      "metadata": {
        "id": "p7wvP5CDuAU6"
      }
    },
    {
      "cell_type": "markdown",
      "source": [
        "## Primer punto\n",
        "\n",
        "\"Una represa se utiliza para generar energía eléctrica y para el control del flujo de aguas. La capacidad de la represa es de 4 unidades e iniciará el mes con 1  unidad. La función de probabilidad de la cantidad de agua que fluye a la represa en el mes siguiente es:\n",
        "\n",
        "**Cantidad:     0  |     1    |      2     |      3**\n",
        "\n",
        "**Probabilidad: 0.15 | 0.35 | 0.30   | 0.20**\n",
        "\n",
        "Si el agua de la represa excede la capacidad máxima, el agua sobrante se suelta a través del vertedero. Para generar energía se requieren mensualmente 2 unidaddes  que se sueltan al final de cada mes. Si hay menos de 2 unidades en la presa, se genera energía con el agua disponible.\n",
        "\n",
        "**a) ¿Cuántas unidades se tirarían al vertedero por exceso de capacidad durante los próximos 15 años? ¿Que propondria según el resultado obtenido?**\n",
        "\n",
        "**b) ¿Cuántas veces se tuvo que generar energía con menos de 2 unidades durante el mismo período de 15 años?\"**"
      ],
      "metadata": {
        "id": "PDhhIqTsuHvl"
      }
    },
    {
      "cell_type": "code",
      "source": [
        "import random\n",
        "\n",
        "def simular_flujo_agua():\n",
        "    A = random.random()\n",
        "    if A < 0.15:\n",
        "        return 0\n",
        "    elif A < 0.50:  # 0.15 + 0.35\n",
        "        return 1\n",
        "    elif A < 0.80:  # 0.50 + 0.30\n",
        "        return 2\n",
        "    else:\n",
        "        return 3\n",
        "\n",
        "def simular_represa(meses):\n",
        "    capacidad_maxima = 4\n",
        "    demanda_energia = 2\n",
        "    agua_actual = 1  # Agua inicial\n",
        "    total_vertido = 0\n",
        "    veces_energia_insuficiente = 0\n",
        "\n",
        "    for i in range(meses):\n",
        "        # Simular el flujo de agua entrante\n",
        "        flujo = simular_flujo_agua()\n",
        "\n",
        "        # Calcular el agua total antes de vertido\n",
        "        agua_total = agua_actual + flujo\n",
        "\n",
        "        # Calcular el agua vertida por exceso\n",
        "        vertido = max(0, agua_total - capacidad_maxima)\n",
        "        total_vertido += vertido\n",
        "\n",
        "        # Ajustar el agua total después del vertido\n",
        "        agua_total = min(agua_total, capacidad_maxima)\n",
        "\n",
        "        # Generar energía\n",
        "        energia_generada = min(demanda_energia, agua_total)\n",
        "        if energia_generada < demanda_energia:\n",
        "            veces_energia_insuficiente += 1\n",
        "\n",
        "        # Actualizar el agua para el próximo mes\n",
        "        agua_actual = agua_total - energia_generada\n",
        "\n",
        "    return total_vertido, veces_energia_insuficiente\n",
        "\n",
        "# Configuración de la simulación\n",
        "num_simulaciones = 10000\n",
        "meses = 15 * 12  # 15 años\n",
        "\n",
        "# Realizar múltiples simulaciones\n",
        "resultados_vertido = []\n",
        "resultados_energia_insuficiente = []\n",
        "\n",
        "for i in range(num_simulaciones):\n",
        "    vertido, energia_insuficiente = simular_represa(meses)\n",
        "    resultados_vertido.append(vertido)\n",
        "    resultados_energia_insuficiente.append(energia_insuficiente)\n",
        "\n",
        "# Calcular resultados promedio\n",
        "promedio_vertido = sum(resultados_vertido) / num_simulaciones\n",
        "promedio_energia_insuficiente = sum(resultados_energia_insuficiente) / num_simulaciones\n",
        "\n",
        "# Imprimir resultados\n",
        "print(f\"Promedio de unidades vertidas en 15 años: {promedio_vertido:.2f}\")\n",
        "print(f\"Promedio de veces con energía insuficiente en 15 años: {promedio_energia_insuficiente:.2f}\")"
      ],
      "metadata": {
        "colab": {
          "base_uri": "https://localhost:8080/"
        },
        "id": "4RsqcGGf1PQE",
        "outputId": "7ad8f561-2319-4b35-d115-0ba66bbb8b04"
      },
      "execution_count": null,
      "outputs": [
        {
          "output_type": "stream",
          "name": "stdout",
          "text": [
            "Promedio de unidades vertidas en 15 años: 3.49\n",
            "Promedio de veces con energía insuficiente en 15 años: 65.92\n"
          ]
        }
      ]
    },
    {
      "cell_type": "markdown",
      "source": [
        "## Segundo punto\n",
        "\n",
        "Andrés cuenta con una tienda para mascotas con una iniciativa de donar 2 kg de croquetas por cada 10 kg al final del día. La configuración de las ventas diarias tiene la siguiente distribución de probabilidad:\n",
        "\n",
        "**Paquetes de 10 kg vendidos por día: 5 10 12 15 20**\n",
        "\n",
        "**Probabilidad: 0.25 0.15 0.35 0.125 0.125**\n",
        "\n",
        "El costo para Andrés de 1 kg de croquetas es de $800 y lo vende a $1500. También existe una probabilidad del 0.45 de que al día siguiente el producto se pierda en inventario.\n",
        "\n",
        "**a) Determine la cantidad Optima de producción de croquetas para configurarle la máquina y obtener una ganancia ideal cumpliendo con la iniciativa.**\n",
        "\n",
        "**b) Dado que la máquina tiene la configuración óptima determinada en el inciso (a) y ahora las ventas aumentaron un 20%. ¿Le recomendaría a Andrés aumentar la donación a 4 kg por cada 10 kg vendido si, bajo esta condición, las ventas aumentaran un 20%?**"
      ],
      "metadata": {
        "id": "jNXK_TaHBrv0"
      }
    },
    {
      "cell_type": "code",
      "source": [
        "import random\n",
        "\n",
        "# Distribución de ventas de paquetes de 10 kg por día\n",
        "ventas = [5, 10, 12, 15, 20]\n",
        "probabilidades = [0.25, 0.15, 0.35, 0.125, 0.125]\n",
        "\n",
        "# Parámetros de costos\n",
        "costo_croqueta = 800\n",
        "precio_venta = 1500\n",
        "ganancia_por_kg = precio_venta - costo_croqueta\n",
        "prob_perdida_inventario = 0.45\n",
        "\n",
        "# Función para determinar la cantidad de paquetes vendidos en un día\n",
        "def obtener_paquetes_vendidos():\n",
        "    A = random.random()\n",
        "    if A < 0.25:\n",
        "        return 5\n",
        "    elif A < 0.40:\n",
        "        return 10\n",
        "    elif A < 0.75:\n",
        "        return 12\n",
        "    elif A < 0.875:\n",
        "        return 15\n",
        "    else:\n",
        "        return 20\n",
        "\n",
        "# Simulación de Montecarlo\n",
        "def simulacion_montecarlo(dias, donacion_por_kg):\n",
        "    ganancias = []\n",
        "    for i in range(dias):\n",
        "        # Simular ventas del día usando el método basado en if\n",
        "        paquetes_vendidos = obtener_paquetes_vendidos()\n",
        "\n",
        "        # Cálculo de croquetas vendidas y donadas\n",
        "        kg_vendidos = paquetes_vendidos * 10\n",
        "        kg_donados = paquetes_vendidos * donacion_por_kg\n",
        "\n",
        "        # Ganancia diaria sin pérdidas\n",
        "        ganancia_diaria = (kg_vendidos * ganancia_por_kg) - (kg_donados * costo_croqueta)\n",
        "\n",
        "        # Considerar la probabilidad de pérdida de inventario\n",
        "        if random.random() < prob_perdida_inventario:\n",
        "            ganancia_diaria *= 0.55  # Solo se queda con el 55% de las ganancias\n",
        "\n",
        "        # Almacenar la ganancia del día\n",
        "        ganancias.append(ganancia_diaria)\n",
        "\n",
        "    # Promedio de ganancias sobre todos los días simulados\n",
        "    return sum(ganancias) / len(ganancias)\n",
        "\n",
        "# Parámetros de simulación\n",
        "dias_simulados = 250\n",
        "\n",
        "# Inciso a: calcular ganancia con 2 kg donados por cada 10 kg\n",
        "ganancia_optima = simulacion_montecarlo(dias_simulados, donacion_por_kg=0.2)\n",
        "print(f\"Ganancia promedio con 2 kg donados: ${ganancia_optima:.2f}\")\n",
        "\n",
        "# Inciso b: ventas aumentan un 20% y donación aumenta a 4 kg por cada 10 kg\n",
        "def obtener_paquetes_vendidos_aumentado():\n",
        "    A = random.random()\n",
        "    if A < 0.25:\n",
        "        return 5 * 1.2\n",
        "    elif A < 0.40:\n",
        "        return 10 * 1.2\n",
        "    elif A < 0.75:\n",
        "        return 12 * 1.2\n",
        "    elif A < 0.875:\n",
        "        return 15 * 1.2\n",
        "    else:\n",
        "        return 20 * 1.2\n",
        "\n",
        "# Usar la nueva función para simular con el aumento en ventas\n",
        "def simulacion_montecarlo_ventas_aumentadas(dias, donacion_por_kg):\n",
        "    ganancias = []\n",
        "    for i in range(dias):\n",
        "        paquetes_vendidos = obtener_paquetes_vendidos_aumentado()\n",
        "        kg_vendidos = paquetes_vendidos * 10\n",
        "        kg_donados = paquetes_vendidos * donacion_por_kg\n",
        "        ganancia_diaria = (kg_vendidos * ganancia_por_kg) - (kg_donados * costo_croqueta)\n",
        "\n",
        "        if random.random() < prob_perdida_inventario:\n",
        "            ganancia_diaria *= 0.55\n",
        "\n",
        "        ganancias.append(ganancia_diaria)\n",
        "\n",
        "    return sum(ganancias) / len(ganancias)\n",
        "\n",
        "# Simulación con el aumento de ventas y la nueva donación\n",
        "ganancia_aumentada = simulacion_montecarlo_ventas_aumentadas(dias_simulados, donacion_por_kg=0.4)\n",
        "print(f\"Ganancia promedio con 4 kg donados: ${ganancia_aumentada:.2f}\")\n"
      ],
      "metadata": {
        "colab": {
          "base_uri": "https://localhost:8080/"
        },
        "id": "T4UXlm_4B2Q2",
        "outputId": "07507604-91e0-4ea5-ccd1-ed2e8271bb8d"
      },
      "execution_count": null,
      "outputs": [
        {
          "output_type": "stream",
          "name": "stdout",
          "text": [
            "Ganancia promedio con 2 kg donados: $60174.22\n",
            "Ganancia promedio con 4 kg donados: $72358.83\n"
          ]
        }
      ]
    },
    {
      "cell_type": "markdown",
      "source": [
        "## Tercer punto\n",
        "\n",
        "Gambia es un país africano en el cual viven aproximadamente 2 millones de habitantes de los cuales el gobierno ha calificado las familias en 3 clases sociales dependiendo de su situación económica (baja, media y alta), por experiencia de años anteriores se sabe que si el comercio con Senegal es bueno la probabilidad de pasar una clase siguiente a otra en un año es 0.6 y de mantenerse en alta es 1, además con esta característica no hay un retroceso en las clases. Ahora bien, si el comercio con Senegal no es bueno la probabilidad que una familia permanezca en clase baja es total, y pasar de una clase a una inferior es 0.5, en esta situación no es posible avanzar a una clase superior. El gobierno de Gambia está preocupado por esta situación debido a que, de los últimos 20 años, solo se ha tenido 9 años de buen comercio con Senegal, dada esta situación los dirigentes quieren saber:\n",
        "\n",
        "**¿Cuando recaudarían después de 20 años su colocan un impuesto de pasar de clase baja a media de $500USD y de media a alta de $800? En el momento que le piden realizar la sumulación existe la siguiente configuración de las personas en las clases sociales: 1000000 en clase baja; 700000 en clase media y 300000 en clase alta.**"
      ],
      "metadata": {
        "id": "vCMSeDljVqiX"
      }
    },
    {
      "cell_type": "code",
      "source": [
        "import random\n",
        "\n",
        "# Parámetros\n",
        "num_simulaciones = 1000  # Número de simulaciones de Montecarlo\n",
        "años_a_simular = 20      # Número de años en cada simulación\n",
        "\n",
        "# Inicialización de las clases sociales\n",
        "clase_baja_inicial = 1000000\n",
        "clase_media_inicial = 700000\n",
        "clase_alta_inicial = 300000\n",
        "\n",
        "# Parámetros del comercio\n",
        "prob_comercio_bueno = 9 / 20\n",
        "prob_comercio_malo = 11 / 20\n",
        "\n",
        "# Impuestos\n",
        "impuesto_baja_a_media = 500\n",
        "impuesto_media_a_alta = 800\n",
        "\n",
        "# Función para ejecutar una simulación de 20 años\n",
        "def simulacion_20_años():\n",
        "    clase_baja = clase_baja_inicial\n",
        "    clase_media = clase_media_inicial\n",
        "    clase_alta = clase_alta_inicial\n",
        "    recaudacion_total = 0\n",
        "\n",
        "    for año in range(años_a_simular):\n",
        "        # Determinar si el comercio es bueno o malo en este año\n",
        "        if random.random() < prob_comercio_bueno:\n",
        "            comercio_bueno = True\n",
        "        else:\n",
        "            comercio_bueno = False\n",
        "\n",
        "        if comercio_bueno:\n",
        "            # Si el comercio es bueno\n",
        "            # Paso de baja a media\n",
        "            personas_a_media = int(clase_baja * 0.6)\n",
        "            clase_baja -= personas_a_media\n",
        "            clase_media += personas_a_media\n",
        "            recaudacion_total += personas_a_media * impuesto_baja_a_media\n",
        "\n",
        "            # Paso de media a alta\n",
        "            personas_a_alta = int(clase_media * 0.6)\n",
        "            clase_media -= personas_a_alta\n",
        "            clase_alta += personas_a_alta\n",
        "            recaudacion_total += personas_a_alta * impuesto_media_a_alta\n",
        "\n",
        "        else:\n",
        "            # Si el comercio es malo\n",
        "            # Clase baja se mantiene\n",
        "            personas_a_baja = 0  # Nadie baja a baja ya que todos permanecen ahí\n",
        "\n",
        "            # Retroceso de media a baja\n",
        "            personas_a_baja = int(clase_media * 0.5)\n",
        "            clase_media -= personas_a_baja\n",
        "            clase_baja += personas_a_baja\n",
        "\n",
        "            # Retroceso de alta a media\n",
        "            personas_a_media = int(clase_alta * 0.5)\n",
        "            clase_alta -= personas_a_media\n",
        "            clase_media += personas_a_media\n",
        "\n",
        "    return recaudacion_total\n",
        "\n",
        "# Realizamos la simulación de Montecarlo (varias simulaciones)\n",
        "resultados_recaudacion = []\n",
        "\n",
        "for i in range(num_simulaciones):\n",
        "    recaudacion = simulacion_20_años()\n",
        "    resultados_recaudacion.append(recaudacion)\n",
        "\n",
        "# Cálculo de los resultados promedios y finales\n",
        "recaudacion_promedio = sum(resultados_recaudacion) / num_simulaciones\n",
        "recaudacion_min = min(resultados_recaudacion)\n",
        "recaudacion_max = max(resultados_recaudacion)\n",
        "\n",
        "# Mostrar los resultados de la simulación de Montecarlo\n",
        "print(f\"Recaudación promedio después de 20 años: ${recaudacion_promedio:,}\")\n",
        "print(f\"Recaudación mínima en 20 años: ${recaudacion_min:,}\")\n",
        "print(f\"Recaudación máxima en 20 años: ${recaudacion_max:,}\")"
      ],
      "metadata": {
        "colab": {
          "base_uri": "https://localhost:8080/"
        },
        "id": "7SnUzIfKXDCB",
        "outputId": "f28a8284-bc43-44d5-ef37-4a0a3d595539"
      },
      "execution_count": 18,
      "outputs": [
        {
          "output_type": "stream",
          "name": "stdout",
          "text": [
            "Recaudación promedio después de 20 años: $5,734,255,844.4\n",
            "Recaudación mínima en 20 años: $2,578,237,800\n",
            "Recaudación máxima en 20 años: $7,383,458,600\n"
          ]
        }
      ]
    },
    {
      "cell_type": "markdown",
      "source": [
        "## Cuarto Punto"
      ],
      "metadata": {
        "id": "DHtbamIVX7Cq"
      }
    },
    {
      "cell_type": "code",
      "source": [
        "import random\n",
        "\n",
        "# Parámetros\n",
        "n_simulaciones = 100000  # Número de simulaciones\n",
        "\n",
        "# Función para simular un boleto\n",
        "def jugar_boleto():\n",
        "    filas = []\n",
        "    for i in range(3):  # Tres filas\n",
        "        casilla1 = random.choice([1000, 5000])\n",
        "        casilla2 = random.choice([1000, 5000])\n",
        "        filas.append(random.choice([casilla1, casilla2]))  # Elegir una casilla al azar en cada fila\n",
        "    if filas[0] == filas[1] == filas[2]:\n",
        "        return filas[0]  # Gana la cantidad raspada en las tres filas\n",
        "    else:\n",
        "        return 0  # No gana\n",
        "\n",
        "# Simulamos n boletos\n",
        "ganancias_totales = 0\n",
        "for i in range(n_simulaciones):\n",
        "    ganancias_totales += jugar_boleto()\n",
        "\n",
        "# Cálculo del pago esperado\n",
        "pago_promedio = ganancias_totales / n_simulaciones\n",
        "print(f\"Pago promedio por boleto: ${pago_promedio:.2f}\")\n",
        "\n",
        "# Recomendación de precio mínimo\n",
        "precio_minimo = pago_promedio\n",
        "print(f\"El precio mínimo recomendado para garantizar ganancias es: ${precio_minimo:.2f}\")\n"
      ],
      "metadata": {
        "colab": {
          "base_uri": "https://localhost:8080/"
        },
        "id": "6DqpbAj8aHW8",
        "outputId": "df102383-ff88-47b0-f56d-a755797de5b2"
      },
      "execution_count": 23,
      "outputs": [
        {
          "output_type": "stream",
          "name": "stdout",
          "text": [
            "Pago promedio por boleto: $737.18\n",
            "El precio mínimo recomendado para garantizar ganancias es: $737.18\n"
          ]
        }
      ]
    },
    {
      "cell_type": "markdown",
      "source": [
        "## Quinto Punto"
      ],
      "metadata": {
        "id": "c7G-TM_WcxXJ"
      }
    },
    {
      "cell_type": "code",
      "source": [
        "import random\n",
        "\n",
        "# Parámetros\n",
        "produccion_diaria = 50\n",
        "costo_produccion = 1000\n",
        "precio_venta = 3000\n",
        "multa_policia = 30000\n",
        "probabilidad_policia = 0.25\n",
        "costo_permiso_semanal = 20000\n",
        "demandas = [10, 20, 25, 30, 50, 70, 100]\n",
        "probabilidades_demanda = [0.1, 0.2, 0.3, 0.2, 0.1, 0.06, 0.04]\n",
        "\n",
        "# Simulación sin bucles\n",
        "\n",
        "# Determinamos la demanda diaria usando random.random()\n",
        "A = random.random()\n",
        "if A < 0.1:\n",
        "    demanda = 10\n",
        "elif A < 0.3:\n",
        "    demanda = 20\n",
        "elif A < 0.6:\n",
        "    demanda = 25\n",
        "elif A < 0.8:\n",
        "    demanda = 30\n",
        "elif A < 0.9:\n",
        "    demanda = 50\n",
        "elif A < 0.96:\n",
        "    demanda = 70\n",
        "else:\n",
        "    demanda = 100\n",
        "\n",
        "# Calcular tortas no vendidas\n",
        "tortas_no_vendidas = max(0, produccion_diaria - demanda)\n",
        "\n",
        "# Calcular ganancias por tortas vendidas\n",
        "tortas_vendidas = min(demanda, produccion_diaria)\n",
        "ganancia_diaria = tortas_vendidas * (precio_venta - costo_produccion)\n",
        "\n",
        "# Si hay tortas no vendidas, calcular si la policía lo descubre\n",
        "multa = 0\n",
        "if tortas_no_vendidas > 0:\n",
        "    if random.random() < probabilidad_policia:\n",
        "        multa = multa_policia\n",
        "\n",
        "# Calcular utilidad diaria sin permiso\n",
        "utilidad_diaria_sin_permiso = ganancia_diaria - (tortas_no_vendidas * costo_produccion) - multa\n",
        "print(f\"Utilidad diaria sin permiso: ${utilidad_diaria_sin_permiso:.2f}\")\n",
        "\n",
        "# Calcular utilidad diaria con permiso\n",
        "costo_permiso_diario = costo_permiso_semanal / 7\n",
        "utilidad_diaria_con_permiso = ganancia_diaria - (tortas_no_vendidas * costo_produccion) - costo_permiso_diario\n",
        "print(f\"Utilidad diaria con permiso: ${utilidad_diaria_con_permiso:.2f}\")\n",
        "\n",
        "# Número de tortas no vendidas y botadas\n",
        "print(f\"Tortas no vendidas hoy: {tortas_no_vendidas}\")\n",
        "print(f\"Tortas tiradas hoy: {tortas_no_vendidas}\")\n",
        "\n",
        "# Decisión sobre el permiso\n",
        "if utilidad_diaria_con_permiso > utilidad_diaria_sin_permiso:\n",
        "    print(\"Conviene pagar el permiso.\")\n",
        "else:\n",
        "    print(\"No conviene pagar el permiso.\")\n"
      ],
      "metadata": {
        "colab": {
          "base_uri": "https://localhost:8080/"
        },
        "id": "z0KRE1PSe37q",
        "outputId": "80e86ac4-d3b7-4c16-f53e-4ce103380be3"
      },
      "execution_count": 45,
      "outputs": [
        {
          "output_type": "stream",
          "name": "stdout",
          "text": [
            "Utilidad diaria sin permiso: $-20000.00\n",
            "Utilidad diaria con permiso: $-22857.14\n",
            "Tortas no vendidas hoy: 40\n",
            "Tortas tiradas hoy: 40\n",
            "No conviene pagar el permiso.\n"
          ]
        }
      ]
    },
    {
      "cell_type": "markdown",
      "source": [
        "## Sexto punto"
      ],
      "metadata": {
        "id": "JX1Go06NiaIh"
      }
    },
    {
      "cell_type": "code",
      "source": [
        "import random\n",
        "\n",
        "# Parámetros\n",
        "costo_inicial = 6000\n",
        "precio_reventa = 3600\n",
        "costo_adicional = 4800\n",
        "precio_venta = 8000\n",
        "\n",
        "demandas_10_dias = [5, 6, 7, 8, 9, 10, 11]\n",
        "probabilidades_10_dias = [0.05, 0.05, 0.10, 0.15, 0.25, 0.25, 0.15]\n",
        "\n",
        "demandas_20_dias = [4, 5, 6, 7, 8]\n",
        "probabilidades_20_dias = [0.15, 0.20, 0.30, 0.20, 0.15]\n",
        "\n",
        "# Función para realizar la simulación de Montecarlo\n",
        "def simulacion_montecarlo(Q, Q_adicional, num_simulaciones=10000):\n",
        "    ganancias = []\n",
        "\n",
        "    for _ in range(num_simulaciones):\n",
        "        # Selección de la demanda para los primeros 10 días\n",
        "        r = random.random()\n",
        "        if r < 0.05:\n",
        "            D_10 = 5\n",
        "        elif r < 0.10:\n",
        "            D_10 = 6\n",
        "        elif r < 0.20:\n",
        "            D_10 = 7\n",
        "        elif r < 0.35:\n",
        "            D_10 = 8\n",
        "        elif r < 0.60:\n",
        "            D_10 = 9\n",
        "        elif r < 0.85:\n",
        "            D_10 = 10\n",
        "        else:\n",
        "            D_10 = 11\n",
        "\n",
        "        # Selección de la demanda para los siguientes 20 días\n",
        "        r = random.random()\n",
        "        if r < 0.15:\n",
        "            D_20 = 4\n",
        "        elif r < 0.35:\n",
        "            D_20 = 5\n",
        "        elif r < 0.65:\n",
        "            D_20 = 6\n",
        "        elif r < 0.85:\n",
        "            D_20 = 7\n",
        "        else:\n",
        "            D_20 = 8\n",
        "\n",
        "        # Cálculo de los ingresos y costos\n",
        "        ingresos_10 = min(D_10, Q) * precio_venta\n",
        "        revistas_restantes_10 = max(0, Q - D_10)\n",
        "\n",
        "        ingresos_20 = min(D_20, max(0, revistas_restantes_10 + Q_adicional)) * precio_venta\n",
        "        revistas_restantes_20 = max(0, revistas_restantes_10 + Q_adicional - D_20)\n",
        "\n",
        "        ingresos_devolucion = revistas_restantes_20 * precio_reventa\n",
        "\n",
        "        costo_inicial_total = Q * costo_inicial\n",
        "        costo_adicional_total = Q_adicional * costo_adicional\n",
        "\n",
        "        ganancia = ingresos_10 + ingresos_20 + ingresos_devolucion - costo_inicial_total - costo_adicional_total\n",
        "        ganancias.append(ganancia)\n",
        "\n",
        "    ganancia_promedio = sum(ganancias) / num_simulaciones\n",
        "    return ganancia_promedio\n",
        "\n",
        "# Evaluación de diferentes políticas de compra\n",
        "valores_Q = range(5, 15)  # Cantidad inicial de compra\n",
        "valores_Q_adicional = range(0, 10)  # Cantidad de compra adicional\n",
        "\n",
        "mejor_ganancia = -float('inf')\n",
        "mejor_politica = None\n",
        "\n",
        "for Q in valores_Q:\n",
        "    for Q_adicional in valores_Q_adicional:\n",
        "        ganancia = simulacion_montecarlo(Q, Q_adicional)\n",
        "        if ganancia > mejor_ganancia:\n",
        "            mejor_ganancia = ganancia\n",
        "            mejor_politica = (Q, Q_adicional)\n",
        "\n",
        "print(f\"Mejor política de compra inicial (Q): {mejor_politica[0]}\")\n",
        "print(f\"Mejor política de compra adicional (Q_adicional): {mejor_politica[1]}\")\n",
        "print(f\"Ganancia esperada: {mejor_ganancia}\")\n"
      ],
      "metadata": {
        "colab": {
          "base_uri": "https://localhost:8080/"
        },
        "id": "n3FlO3ICkV_B",
        "outputId": "0ae7e5fa-2568-4b9d-fd73-1d92be6ad54b"
      },
      "execution_count": 73,
      "outputs": [
        {
          "output_type": "stream",
          "name": "stdout",
          "text": [
            "Mejor política de compra inicial (Q): 9\n",
            "Mejor política de compra adicional (Q_adicional): 6\n",
            "Ganancia esperada: 32589.24\n"
          ]
        }
      ]
    }
  ]
}