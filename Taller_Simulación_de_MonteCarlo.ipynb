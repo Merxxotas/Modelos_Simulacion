{
  "nbformat": 4,
  "nbformat_minor": 0,
  "metadata": {
    "colab": {
      "provenance": [],
      "authorship_tag": "ABX9TyN2Yxdi8ms0vT1fYDN8J2c2",
      "include_colab_link": true
    },
    "kernelspec": {
      "name": "python3",
      "display_name": "Python 3"
    },
    "language_info": {
      "name": "python"
    }
  },
  "cells": [
    {
      "cell_type": "markdown",
      "metadata": {
        "id": "view-in-github",
        "colab_type": "text"
      },
      "source": [
        "<a href=\"https://colab.research.google.com/github/Merxxotas/Modelos_Simulacion/blob/main/Taller_Simulaci%C3%B3n_de_MonteCarlo.ipynb\" target=\"_parent\"><img src=\"https://colab.research.google.com/assets/colab-badge.svg\" alt=\"Open In Colab\"/></a>"
      ]
    },
    {
      "cell_type": "markdown",
      "source": [
        "# Taller Simulación de Montecarlo"
      ],
      "metadata": {
        "id": "p7wvP5CDuAU6"
      }
    },
    {
      "cell_type": "markdown",
      "source": [
        "## Primer punto\n",
        "\n",
        "\"Una represa se utiliza para generar energía eléctrica y para el control del flujo de aguas. La capacidad de la represa es de 4 unidades e iniciará el mes con 1  unidad. La función de probabilidad de la cantidad de agua que fluye a la represa en el mes siguiente es:\n",
        "\n",
        "**Cantidad:     0  |     1    |      2     |      3**\n",
        "\n",
        "**Probabilidad: 0.15 | 0.35 | 0.30   | 0.20**\n",
        "\n",
        "Si el agua de la represa excede la capacidad máxima, el agua sobrante se suelta a través del vertedero. Para generar energía se requieren mensualmente 2 unidaddes  que se sueltan al final de cada mes. Si hay menos de 2 unidades en la presa, se genera energía con el agua disponible.\n",
        "\n",
        "**a) ¿Cuántas unidades se tirarían al vertedero por exceso de capacidad durante los próximos 15 años? ¿Que propondria según el resultado obtenido?**\n",
        "\n",
        "**b) ¿Cuántas veces se tuvo que generar energía con menos de 2 unidades durante el mismo período de 15 años?\"**"
      ],
      "metadata": {
        "id": "PDhhIqTsuHvl"
      }
    },
    {
      "cell_type": "code",
      "source": [
        "import random\n",
        "\n",
        "def simular_flujo_agua():\n",
        "    A = random.random()\n",
        "    if A < 0.15:\n",
        "        return 0\n",
        "    elif A < 0.50:  # 0.15 + 0.35\n",
        "        return 1\n",
        "    elif A < 0.80:  # 0.50 + 0.30\n",
        "        return 2\n",
        "    else:\n",
        "        return 3\n",
        "\n",
        "def simular_represa(meses):\n",
        "    capacidad_maxima = 4\n",
        "    demanda_energia = 2\n",
        "    agua_actual = 1  # Agua inicial\n",
        "    total_vertido = 0\n",
        "    veces_energia_insuficiente = 0\n",
        "\n",
        "    for i in range(meses):\n",
        "        # Simular el flujo de agua entrante\n",
        "        flujo = simular_flujo_agua()\n",
        "\n",
        "        # Calcular el agua total antes de vertido\n",
        "        agua_total = agua_actual + flujo\n",
        "\n",
        "        # Calcular el agua vertida por exceso\n",
        "        vertido = max(0, agua_total - capacidad_maxima)\n",
        "        total_vertido += vertido\n",
        "\n",
        "        # Ajustar el agua total después del vertido\n",
        "        agua_total = min(agua_total, capacidad_maxima)\n",
        "\n",
        "        # Generar energía\n",
        "        energia_generada = min(demanda_energia, agua_total)\n",
        "        if energia_generada < demanda_energia:\n",
        "            veces_energia_insuficiente += 1\n",
        "\n",
        "        # Actualizar el agua para el próximo mes\n",
        "        agua_actual = agua_total - energia_generada\n",
        "\n",
        "    return total_vertido, veces_energia_insuficiente\n",
        "\n",
        "# Configuración de la simulación\n",
        "num_simulaciones = 10000\n",
        "meses = 15 * 12  # 15 años\n",
        "\n",
        "# Realizar múltiples simulaciones\n",
        "resultados_vertido = []\n",
        "resultados_energia_insuficiente = []\n",
        "\n",
        "for i in range(num_simulaciones):\n",
        "    vertido, energia_insuficiente = simular_represa(meses)\n",
        "    resultados_vertido.append(vertido)\n",
        "    resultados_energia_insuficiente.append(energia_insuficiente)\n",
        "\n",
        "# Calcular resultados promedio\n",
        "promedio_vertido = sum(resultados_vertido) / num_simulaciones\n",
        "promedio_energia_insuficiente = sum(resultados_energia_insuficiente) / num_simulaciones\n",
        "\n",
        "# Imprimir resultados\n",
        "print(f\"Promedio de unidades vertidas en 15 años: {promedio_vertido:.2f}\")\n",
        "print(f\"Promedio de veces con energía insuficiente en 15 años: {promedio_energia_insuficiente:.2f}\")"
      ],
      "metadata": {
        "colab": {
          "base_uri": "https://localhost:8080/"
        },
        "id": "4RsqcGGf1PQE",
        "outputId": "7ad8f561-2319-4b35-d115-0ba66bbb8b04"
      },
      "execution_count": 10,
      "outputs": [
        {
          "output_type": "stream",
          "name": "stdout",
          "text": [
            "Promedio de unidades vertidas en 15 años: 3.49\n",
            "Promedio de veces con energía insuficiente en 15 años: 65.92\n"
          ]
        }
      ]
    },
    {
      "cell_type": "markdown",
      "source": [
        "## Segundo punto\n",
        "\n",
        "Andrés cuenta con una tienda para mascotas con una iniciativa de donar 2 kg de croquetas por cada 10 kg al final del día. La configuración de las ventas diarias tiene la siguiente distribución de probabilidad:\n",
        "\n",
        "**Paquetes de 10 kg vendidos por día: 5 10 12 15 20**\n",
        "\n",
        "**Probabilidad: 0.25 0.15 0.35 0.125 0.125**\n",
        "\n",
        "El costo para Andrés de 1 kg de croquetas es de $800 y lo vende a $1500. También existe una probabilidad del 0.45 de que al día siguiente el producto se pierda en inventario.\n",
        "\n",
        "**a) Determine la cantidad Optima de producción de croquetas para configurarle la máquina y obtener una ganancia ideal cumpliendo con la iniciativa.**\n",
        "\n",
        "**b) Dado que la máquina tiene la configuración óptima determinada en el inciso (a) y ahora las ventas aumentaron un 20%. ¿Le recomendaría a Andrés aumentar la donación a 4 kg por cada 10 kg vendido si, bajo esta condición, las ventas aumentaran un 20%?**"
      ],
      "metadata": {
        "id": "jNXK_TaHBrv0"
      }
    },
    {
      "cell_type": "code",
      "source": [
        "import numpy as np\n",
        "\n",
        "# Distribución de ventas de paquetes de 10 kg por día\n",
        "ventas = np.array([5, 10, 12, 15, 20])\n",
        "probabilidades = np.array([0.25, 0.15, 0.35, 0.125, 0.125])\n",
        "\n",
        "# Parámetros de costos\n",
        "costo_croqueta = 800\n",
        "precio_venta = 1500\n",
        "ganancia_por_kg = precio_venta - costo_croqueta\n",
        "prob_perdida_inventario = 0.45\n",
        "\n",
        "# Simulación de Montecarlo\n",
        "def simulacion_montecarlo(dias, donacion_por_kg):\n",
        "    ganancias = []\n",
        "    for i in range(dias):\n",
        "        # Simular ventas del día\n",
        "        paquetes_vendidos = np.random.choice(ventas, p=probabilidades)\n",
        "\n",
        "        # Cálculo de croquetas vendidas y donadas\n",
        "        kg_vendidos = paquetes_vendidos * 10\n",
        "        kg_donados = paquetes_vendidos * donacion_por_kg\n",
        "\n",
        "        # Ganancia diaria sin pérdidas\n",
        "        ganancia_diaria = (kg_vendidos * ganancia_por_kg) - (kg_donados * costo_croqueta)\n",
        "\n",
        "        # Considerar la probabilidad de pérdida de inventario\n",
        "        ganancia_esperada = ganancia_diaria * (1 - prob_perdida_inventario)\n",
        "\n",
        "        # Almacenar la ganancia del día\n",
        "        ganancias.append(ganancia_esperada)\n",
        "\n",
        "    # Promedio de ganancias sobre todos los días simulados\n",
        "    return np.mean(ganancias)\n",
        "\n",
        "# Parámetros de simulación\n",
        "dias_simulados = 250\n",
        "\n",
        "# Inciso a: calcular ganancia con 2 kg donados por cada 10 kg\n",
        "ganancia_optima = simulacion_montecarlo(dias_simulados, donacion_por_kg=0.2)\n",
        "print(f\"Ganancia promedio con 2 kg donados: ${ganancia_optima:.2f}\")\n",
        "\n",
        "# Inciso b: ventas aumentan un 20% y donación aumenta a 4 kg por cada 10 kg\n",
        "ventas_aumentadas = ventas * 1.2\n",
        "ganancia_aumentada = simulacion_montecarlo(dias_simulados, donacion_por_kg=0.4)\n",
        "print(f\"Ganancia promedio con 4 kg donados: ${ganancia_aumentada:.2f}\")"
      ],
      "metadata": {
        "colab": {
          "base_uri": "https://localhost:8080/"
        },
        "id": "POYpE-x_Bq-5",
        "outputId": "75f38a5f-3951-4ea6-dd2d-82da4be0f9af"
      },
      "execution_count": 35,
      "outputs": [
        {
          "output_type": "stream",
          "name": "stdout",
          "text": [
            "Ganancia promedio con 2 kg donados: $43624.15\n",
            "Ganancia promedio con 4 kg donados: $42574.31\n"
          ]
        }
      ]
    },
    {
      "cell_type": "code",
      "source": [
        "import random\n",
        "\n",
        "# Distribución de ventas de paquetes de 10 kg por día\n",
        "ventas = [5, 10, 12, 15, 20]\n",
        "probabilidades = [0.25, 0.15, 0.35, 0.125, 0.125]\n",
        "\n",
        "# Parámetros de costos\n",
        "costo_croqueta = 800\n",
        "precio_venta = 1500\n",
        "ganancia_por_kg = precio_venta - costo_croqueta\n",
        "prob_perdida_inventario = 0.45\n",
        "\n",
        "# Función para determinar la cantidad de paquetes vendidos en un día\n",
        "def obtener_paquetes_vendidos():\n",
        "    A = random.random()\n",
        "    if A < 0.25:\n",
        "        return 5\n",
        "    elif A < 0.40:\n",
        "        return 10\n",
        "    elif A < 0.75:\n",
        "        return 12\n",
        "    elif A < 0.875:\n",
        "        return 15\n",
        "    else:\n",
        "        return 20\n",
        "\n",
        "# Simulación de Montecarlo\n",
        "def simulacion_montecarlo(dias, donacion_por_kg):\n",
        "    ganancias = []\n",
        "    for i in range(dias):\n",
        "        # Simular ventas del día usando el método basado en if\n",
        "        paquetes_vendidos = obtener_paquetes_vendidos()\n",
        "\n",
        "        # Cálculo de croquetas vendidas y donadas\n",
        "        kg_vendidos = paquetes_vendidos * 10\n",
        "        kg_donados = paquetes_vendidos * donacion_por_kg\n",
        "\n",
        "        # Ganancia diaria sin pérdidas\n",
        "        ganancia_diaria = (kg_vendidos * ganancia_por_kg) - (kg_donados * costo_croqueta)\n",
        "\n",
        "        # Considerar la probabilidad de pérdida de inventario\n",
        "        if random.random() < prob_perdida_inventario:\n",
        "            ganancia_diaria *= 0.55  # Solo se queda con el 55% de las ganancias\n",
        "\n",
        "        # Almacenar la ganancia del día\n",
        "        ganancias.append(ganancia_diaria)\n",
        "\n",
        "    # Promedio de ganancias sobre todos los días simulados\n",
        "    return sum(ganancias) / len(ganancias)\n",
        "\n",
        "# Parámetros de simulación\n",
        "dias_simulados = 250\n",
        "\n",
        "# Inciso a: calcular ganancia con 2 kg donados por cada 10 kg\n",
        "ganancia_optima = simulacion_montecarlo(dias_simulados, donacion_por_kg=0.2)\n",
        "print(f\"Ganancia promedio con 2 kg donados: ${ganancia_optima:.2f}\")\n",
        "\n",
        "# Inciso b: ventas aumentan un 20% y donación aumenta a 4 kg por cada 10 kg\n",
        "def obtener_paquetes_vendidos_aumentado():\n",
        "    A = random.random()\n",
        "    if A < 0.25:\n",
        "        return 5 * 1.2\n",
        "    elif A < 0.40:\n",
        "        return 10 * 1.2\n",
        "    elif A < 0.75:\n",
        "        return 12 * 1.2\n",
        "    elif A < 0.875:\n",
        "        return 15 * 1.2\n",
        "    else:\n",
        "        return 20 * 1.2\n",
        "\n",
        "# Usar la nueva función para simular con el aumento en ventas\n",
        "def simulacion_montecarlo_ventas_aumentadas(dias, donacion_por_kg):\n",
        "    ganancias = []\n",
        "    for i in range(dias):\n",
        "        paquetes_vendidos = obtener_paquetes_vendidos_aumentado()\n",
        "        kg_vendidos = paquetes_vendidos * 10\n",
        "        kg_donados = paquetes_vendidos * donacion_por_kg\n",
        "        ganancia_diaria = (kg_vendidos * ganancia_por_kg) - (kg_donados * costo_croqueta)\n",
        "\n",
        "        if random.random() < prob_perdida_inventario:\n",
        "            ganancia_diaria *= 0.55\n",
        "\n",
        "        ganancias.append(ganancia_diaria)\n",
        "\n",
        "    return sum(ganancias) / len(ganancias)\n",
        "\n",
        "# Simulación con el aumento de ventas y la nueva donación\n",
        "ganancia_aumentada = simulacion_montecarlo_ventas_aumentadas(dias_simulados, donacion_por_kg=0.4)\n",
        "print(f\"Ganancia promedio con 4 kg donados: ${ganancia_aumentada:.2f}\")\n"
      ],
      "metadata": {
        "colab": {
          "base_uri": "https://localhost:8080/"
        },
        "id": "T4UXlm_4B2Q2",
        "outputId": "07507604-91e0-4ea5-ccd1-ed2e8271bb8d"
      },
      "execution_count": 39,
      "outputs": [
        {
          "output_type": "stream",
          "name": "stdout",
          "text": [
            "Ganancia promedio con 2 kg donados: $60174.22\n",
            "Ganancia promedio con 4 kg donados: $72358.83\n"
          ]
        }
      ]
    }
  ]
}